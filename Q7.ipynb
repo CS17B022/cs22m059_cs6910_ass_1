{
  "nbformat": 4,
  "nbformat_minor": 0,
  "metadata": {
    "colab": {
      "provenance": []
    },
    "kernelspec": {
      "name": "python3",
      "display_name": "Python 3"
    },
    "language_info": {
      "name": "python"
    },
    "widgets": {
      "application/vnd.jupyter.widget-state+json": {
        "6a22623fa3ce4cb0b7247b37f378c652": {
          "model_module": "@jupyter-widgets/controls",
          "model_name": "VBoxModel",
          "model_module_version": "1.5.0",
          "state": {
            "_dom_classes": [],
            "_model_module": "@jupyter-widgets/controls",
            "_model_module_version": "1.5.0",
            "_model_name": "VBoxModel",
            "_view_count": null,
            "_view_module": "@jupyter-widgets/controls",
            "_view_module_version": "1.5.0",
            "_view_name": "VBoxView",
            "box_style": "",
            "children": [
              "IPY_MODEL_beca3542f24a4565b7ff59dea5e9552d",
              "IPY_MODEL_5df44baf69194fdb9c6ed0c29ce46a73"
            ],
            "layout": "IPY_MODEL_2ccc7cee264842e488ccee812e982641"
          }
        },
        "beca3542f24a4565b7ff59dea5e9552d": {
          "model_module": "@jupyter-widgets/controls",
          "model_name": "LabelModel",
          "model_module_version": "1.5.0",
          "state": {
            "_dom_classes": [],
            "_model_module": "@jupyter-widgets/controls",
            "_model_module_version": "1.5.0",
            "_model_name": "LabelModel",
            "_view_count": null,
            "_view_module": "@jupyter-widgets/controls",
            "_view_module_version": "1.5.0",
            "_view_name": "LabelView",
            "description": "",
            "description_tooltip": null,
            "layout": "IPY_MODEL_6a8f79a2e2ca4a9e9d283bd8097cba46",
            "placeholder": "​",
            "style": "IPY_MODEL_611f3ab35a0441a987fcad4978f77dac",
            "value": "0.021 MB of 0.029 MB uploaded (0.000 MB deduped)\r"
          }
        },
        "5df44baf69194fdb9c6ed0c29ce46a73": {
          "model_module": "@jupyter-widgets/controls",
          "model_name": "FloatProgressModel",
          "model_module_version": "1.5.0",
          "state": {
            "_dom_classes": [],
            "_model_module": "@jupyter-widgets/controls",
            "_model_module_version": "1.5.0",
            "_model_name": "FloatProgressModel",
            "_view_count": null,
            "_view_module": "@jupyter-widgets/controls",
            "_view_module_version": "1.5.0",
            "_view_name": "ProgressView",
            "bar_style": "",
            "description": "",
            "description_tooltip": null,
            "layout": "IPY_MODEL_2c58697790b949ef9ff0648aad46cfcd",
            "max": 1,
            "min": 0,
            "orientation": "horizontal",
            "style": "IPY_MODEL_111cc074e6c740a0957b66b5d194d13a",
            "value": 0.73171768707483
          }
        },
        "2ccc7cee264842e488ccee812e982641": {
          "model_module": "@jupyter-widgets/base",
          "model_name": "LayoutModel",
          "model_module_version": "1.2.0",
          "state": {
            "_model_module": "@jupyter-widgets/base",
            "_model_module_version": "1.2.0",
            "_model_name": "LayoutModel",
            "_view_count": null,
            "_view_module": "@jupyter-widgets/base",
            "_view_module_version": "1.2.0",
            "_view_name": "LayoutView",
            "align_content": null,
            "align_items": null,
            "align_self": null,
            "border": null,
            "bottom": null,
            "display": null,
            "flex": null,
            "flex_flow": null,
            "grid_area": null,
            "grid_auto_columns": null,
            "grid_auto_flow": null,
            "grid_auto_rows": null,
            "grid_column": null,
            "grid_gap": null,
            "grid_row": null,
            "grid_template_areas": null,
            "grid_template_columns": null,
            "grid_template_rows": null,
            "height": null,
            "justify_content": null,
            "justify_items": null,
            "left": null,
            "margin": null,
            "max_height": null,
            "max_width": null,
            "min_height": null,
            "min_width": null,
            "object_fit": null,
            "object_position": null,
            "order": null,
            "overflow": null,
            "overflow_x": null,
            "overflow_y": null,
            "padding": null,
            "right": null,
            "top": null,
            "visibility": null,
            "width": null
          }
        },
        "6a8f79a2e2ca4a9e9d283bd8097cba46": {
          "model_module": "@jupyter-widgets/base",
          "model_name": "LayoutModel",
          "model_module_version": "1.2.0",
          "state": {
            "_model_module": "@jupyter-widgets/base",
            "_model_module_version": "1.2.0",
            "_model_name": "LayoutModel",
            "_view_count": null,
            "_view_module": "@jupyter-widgets/base",
            "_view_module_version": "1.2.0",
            "_view_name": "LayoutView",
            "align_content": null,
            "align_items": null,
            "align_self": null,
            "border": null,
            "bottom": null,
            "display": null,
            "flex": null,
            "flex_flow": null,
            "grid_area": null,
            "grid_auto_columns": null,
            "grid_auto_flow": null,
            "grid_auto_rows": null,
            "grid_column": null,
            "grid_gap": null,
            "grid_row": null,
            "grid_template_areas": null,
            "grid_template_columns": null,
            "grid_template_rows": null,
            "height": null,
            "justify_content": null,
            "justify_items": null,
            "left": null,
            "margin": null,
            "max_height": null,
            "max_width": null,
            "min_height": null,
            "min_width": null,
            "object_fit": null,
            "object_position": null,
            "order": null,
            "overflow": null,
            "overflow_x": null,
            "overflow_y": null,
            "padding": null,
            "right": null,
            "top": null,
            "visibility": null,
            "width": null
          }
        },
        "611f3ab35a0441a987fcad4978f77dac": {
          "model_module": "@jupyter-widgets/controls",
          "model_name": "DescriptionStyleModel",
          "model_module_version": "1.5.0",
          "state": {
            "_model_module": "@jupyter-widgets/controls",
            "_model_module_version": "1.5.0",
            "_model_name": "DescriptionStyleModel",
            "_view_count": null,
            "_view_module": "@jupyter-widgets/base",
            "_view_module_version": "1.2.0",
            "_view_name": "StyleView",
            "description_width": ""
          }
        },
        "2c58697790b949ef9ff0648aad46cfcd": {
          "model_module": "@jupyter-widgets/base",
          "model_name": "LayoutModel",
          "model_module_version": "1.2.0",
          "state": {
            "_model_module": "@jupyter-widgets/base",
            "_model_module_version": "1.2.0",
            "_model_name": "LayoutModel",
            "_view_count": null,
            "_view_module": "@jupyter-widgets/base",
            "_view_module_version": "1.2.0",
            "_view_name": "LayoutView",
            "align_content": null,
            "align_items": null,
            "align_self": null,
            "border": null,
            "bottom": null,
            "display": null,
            "flex": null,
            "flex_flow": null,
            "grid_area": null,
            "grid_auto_columns": null,
            "grid_auto_flow": null,
            "grid_auto_rows": null,
            "grid_column": null,
            "grid_gap": null,
            "grid_row": null,
            "grid_template_areas": null,
            "grid_template_columns": null,
            "grid_template_rows": null,
            "height": null,
            "justify_content": null,
            "justify_items": null,
            "left": null,
            "margin": null,
            "max_height": null,
            "max_width": null,
            "min_height": null,
            "min_width": null,
            "object_fit": null,
            "object_position": null,
            "order": null,
            "overflow": null,
            "overflow_x": null,
            "overflow_y": null,
            "padding": null,
            "right": null,
            "top": null,
            "visibility": null,
            "width": null
          }
        },
        "111cc074e6c740a0957b66b5d194d13a": {
          "model_module": "@jupyter-widgets/controls",
          "model_name": "ProgressStyleModel",
          "model_module_version": "1.5.0",
          "state": {
            "_model_module": "@jupyter-widgets/controls",
            "_model_module_version": "1.5.0",
            "_model_name": "ProgressStyleModel",
            "_view_count": null,
            "_view_module": "@jupyter-widgets/base",
            "_view_module_version": "1.2.0",
            "_view_name": "StyleView",
            "bar_color": null,
            "description_width": ""
          }
        }
      }
    }
  },
  "cells": [
    {
      "cell_type": "code",
      "source": [
        "!pip install wandb"
      ],
      "metadata": {
        "id": "tQWOaHWDBNr_",
        "colab": {
          "base_uri": "https://localhost:8080/"
        },
        "outputId": "fa2933a3-183b-45ba-998e-c5e2ede455dd"
      },
      "execution_count": null,
      "outputs": [
        {
          "output_type": "stream",
          "name": "stdout",
          "text": [
            "Looking in indexes: https://pypi.org/simple, https://us-python.pkg.dev/colab-wheels/public/simple/\n",
            "Requirement already satisfied: wandb in /usr/local/lib/python3.9/dist-packages (0.14.0)\n",
            "Requirement already satisfied: appdirs>=1.4.3 in /usr/local/lib/python3.9/dist-packages (from wandb) (1.4.4)\n",
            "Requirement already satisfied: PyYAML in /usr/local/lib/python3.9/dist-packages (from wandb) (6.0)\n",
            "Requirement already satisfied: setproctitle in /usr/local/lib/python3.9/dist-packages (from wandb) (1.3.2)\n",
            "Requirement already satisfied: protobuf!=4.21.0,<5,>=3.15.0 in /usr/local/lib/python3.9/dist-packages (from wandb) (3.19.6)\n",
            "Requirement already satisfied: requests<3,>=2.0.0 in /usr/local/lib/python3.9/dist-packages (from wandb) (2.27.1)\n",
            "Requirement already satisfied: Click!=8.0.0,>=7.0 in /usr/local/lib/python3.9/dist-packages (from wandb) (8.1.3)\n",
            "Requirement already satisfied: GitPython!=3.1.29,>=1.0.0 in /usr/local/lib/python3.9/dist-packages (from wandb) (3.1.31)\n",
            "Requirement already satisfied: pathtools in /usr/local/lib/python3.9/dist-packages (from wandb) (0.1.2)\n",
            "Requirement already satisfied: setuptools in /usr/local/lib/python3.9/dist-packages (from wandb) (63.4.3)\n",
            "Requirement already satisfied: typing-extensions in /usr/local/lib/python3.9/dist-packages (from wandb) (4.5.0)\n",
            "Requirement already satisfied: psutil>=5.0.0 in /usr/local/lib/python3.9/dist-packages (from wandb) (5.9.4)\n",
            "Requirement already satisfied: docker-pycreds>=0.4.0 in /usr/local/lib/python3.9/dist-packages (from wandb) (0.4.0)\n",
            "Requirement already satisfied: sentry-sdk>=1.0.0 in /usr/local/lib/python3.9/dist-packages (from wandb) (1.17.0)\n",
            "Requirement already satisfied: six>=1.4.0 in /usr/local/lib/python3.9/dist-packages (from docker-pycreds>=0.4.0->wandb) (1.15.0)\n",
            "Requirement already satisfied: gitdb<5,>=4.0.1 in /usr/local/lib/python3.9/dist-packages (from GitPython!=3.1.29,>=1.0.0->wandb) (4.0.10)\n",
            "Requirement already satisfied: urllib3<1.27,>=1.21.1 in /usr/local/lib/python3.9/dist-packages (from requests<3,>=2.0.0->wandb) (1.26.15)\n",
            "Requirement already satisfied: charset-normalizer~=2.0.0 in /usr/local/lib/python3.9/dist-packages (from requests<3,>=2.0.0->wandb) (2.0.12)\n",
            "Requirement already satisfied: certifi>=2017.4.17 in /usr/local/lib/python3.9/dist-packages (from requests<3,>=2.0.0->wandb) (2022.12.7)\n",
            "Requirement already satisfied: idna<4,>=2.5 in /usr/local/lib/python3.9/dist-packages (from requests<3,>=2.0.0->wandb) (3.4)\n",
            "Requirement already satisfied: smmap<6,>=3.0.1 in /usr/local/lib/python3.9/dist-packages (from gitdb<5,>=4.0.1->GitPython!=3.1.29,>=1.0.0->wandb) (5.0.0)\n"
          ]
        }
      ]
    },
    {
      "cell_type": "code",
      "source": [
        "from keras.datasets import fashion_mnist, mnist\n",
        "import numpy as np\n",
        "import math\n",
        "import plotly.figure_factory as ff\n",
        "import wandb"
      ],
      "metadata": {
        "id": "XVsLFTu3BTMh"
      },
      "execution_count": null,
      "outputs": []
    },
    {
      "cell_type": "code",
      "execution_count": null,
      "metadata": {
        "id": "Z_E5SLPx_Lre"
      },
      "outputs": [],
      "source": [
        "def process(x) :\n",
        "  x_proc = x.reshape(len(x), -1)\n",
        "  x_proc = x_proc.astype('float64')\n",
        "  x_proc = x_proc / 255.0\n",
        "  return x_proc"
      ]
    },
    {
      "cell_type": "code",
      "source": [
        "def load_data(dataset = \"fashion_mnist\"):\n",
        "  if dataset == \"fashion_mnist\" :\n",
        "      (x_train, y_train), (x_test, y_test) = fashion_mnist.load_data()\n",
        "  elif dataset == \"mnist\":\n",
        "      (x_train, y_train), (x_test, y_test) = mnist.load_data()\n",
        "  \n",
        "  x_train, x_valid = x_train[:int(len(x_train) * 0.9)], x_train[int(len(x_train) * 0.9):]\n",
        "  y_train, y_valid = y_train[:int(len(y_train) * 0.9)], y_train[int(len(y_train) * 0.9):]\n",
        "\n",
        "  x_train = process(x_train)\n",
        "  x_valid = process(x_valid)\n",
        "  x_test = process(x_test) \n",
        "\n",
        "  k = 10\n",
        "  y_train = np.eye(k)[y_train] # one-hot\n",
        "  y_valid = np.eye(k)[y_valid]\n",
        "  y_test = np.eye(k)[y_test]\n",
        "  \n",
        "  return x_train, y_train, x_valid, y_valid, x_test, y_test"
      ],
      "metadata": {
        "id": "HnPTz9lcBKC3"
      },
      "execution_count": null,
      "outputs": []
    },
    {
      "cell_type": "code",
      "source": [
        "def sigmoid(x) :\n",
        "  return 1. / (1. + np.exp(-x))\n",
        "\n",
        "def tanh(x) :\n",
        "  return (2. / (1. + np.exp(-2.*x))) - 1.\n",
        "\n",
        "def relu(x) : # do not use relu with random\n",
        "  return np.where(x >= 0, x, 0.)\n",
        "\n",
        "def softmax(x) :\n",
        "  x = x - np.max(x, axis=0)\n",
        "  y = np.exp(x)\n",
        "  return y / y.sum(axis=0)"
      ],
      "metadata": {
        "id": "Rdt_7K0gBZQC"
      },
      "execution_count": null,
      "outputs": []
    },
    {
      "cell_type": "code",
      "source": [
        "class my_nn :\n",
        "  # change the default parameters to the best\n",
        "  def __init__(self, n_feature = 784, n_class = 10, nhl = 1, sz = 4, weight_init = \"random\", act_fun = \"sigmoid\", loss = \"cross_entropy\", \n",
        "               epochs = 1, b_sz = 4, optimizer = \"sgd\", lr = 0.1, mom = 0.9, beta = 0.9, beta1 = 0.9, beta2 = 0.999, epsilon = 0.000001, w_d = 0.005) :\n",
        "    self.n_feature = n_feature\n",
        "    self.n_class = n_class\n",
        "    self.nhl = nhl\n",
        "    self.L = nhl + 1\n",
        "    self.sz = sz\n",
        "    self.weight_init = weight_init\n",
        "    self.act_fun = act_fun\n",
        "    self.loss = loss\n",
        "    self.epochs = epochs\n",
        "    self.b_sz = b_sz\n",
        "    self.optimizer = optimizer\n",
        "    self.lr = lr\n",
        "    self.mom = mom\n",
        "    self.beta = beta\n",
        "    self.beta1 = beta1\n",
        "    self.beta2 = beta2\n",
        "    self.epsilon = epsilon\n",
        "    self.w_d = w_d\n",
        "\n",
        "    self.W = [0 for i in range(0, self.L+1, 1)]\n",
        "    self.b = [0 for i in range(0, self.L+1, 1)]\n",
        "\n",
        "    self.d_a = [0 for i in range(0, self.L+1, 1)]\n",
        "    self.d_b = [0 for i in range(0, self.L+1, 1)]\n",
        "    self.d_W = [0 for i in range(0, self.L+1, 1)]\n",
        "\n",
        "    self.a = [0 for i in range(0, self.L+1, 1)]\n",
        "    self.h = [0 for i in range(0, self.L+1, 1)]\n",
        "\n",
        "    self.u_W = [0 for i in range(0, self.L+1, 1)]\n",
        "    self.u_b = [0 for i in range(0, self.L+1, 1)]\n",
        "\n",
        "    self.W_look = [0 for i in range(0, self.L+1, 1)]\n",
        "    self.b_look = [0 for i in range(0, self.L+1, 1)]\n",
        "\n",
        "    self.v_W = [0 for i in range(0, self.L+1, 1)]\n",
        "    self.v_b = [0 for i in range(0, self.L+1, 1)]\n",
        "\n",
        "    self.m_W = [0 for i in range(0, self.L+1, 1)]\n",
        "    self.m_b = [0 for i in range(0, self.L+1, 1)]\n",
        "\n",
        "    self.initialization()\n",
        "\n",
        "  ######################################################\n",
        "\n",
        "  def initialization(self) :\n",
        "    if self.act_fun == \"ReLU\" :\n",
        "      self.W[1] = np.random.randn(self.sz, self.n_feature) * np.sqrt(2.0/self.n_feature)\n",
        "      for i in range(2, self.L, 1) :\n",
        "        self.W[i] = np.random.randn(self.sz, self.sz) * math.sqrt(2.0/self.sz)\n",
        "      self.W[self.L] = np.random.randn(self.n_class, self.sz) * math.sqrt(2.0/self.sz)\n",
        "\n",
        "    elif self.weight_init == \"random\" :\n",
        "      self.W[1] = np.random.randn(self.sz, self.n_feature)\n",
        "      for i in range(2, self.L, 1) :\n",
        "        self.W[i] = np.random.randn(self.sz, self.sz)\n",
        "      self.W[self.L] = np.random.randn(self.n_class, self.sz)\n",
        "\n",
        "    elif self.weight_init == \"Xavier\" :\n",
        "      self.W[1] = np.random.randn(self.sz, self.n_feature) * np.sqrt(2.0/self.n_feature)\n",
        "      for i in range(2, self.L, 1) :\n",
        "        self.W[i] = np.random.randn(self.sz, self.sz) * math.sqrt(2.0/self.sz)\n",
        "      self.W[self.L] = np.random.randn(self.n_class, self.sz) * math.sqrt(2.0/self.sz)\n",
        "    \n",
        "    for i in range(1, self.L, 1) :\n",
        "      self.b[i] = np.zeros((self.sz, 1))\n",
        "    self.b[self.L] = np.zeros((self.n_class, 1))\n",
        "  \n",
        "  #########################################################\n",
        "\n",
        "  def forward_propagation(self, x) :\n",
        "    self.h[0] = x\n",
        "\n",
        "    for i in range(1, self.L, 1) :\n",
        "      self.a[i] = self.b[i] + np.dot(self.W[i], self.h[i-1])\n",
        "\n",
        "      if self.act_fun == \"sigmoid\" :\n",
        "        self.h[i] = sigmoid(self.a[i])\n",
        "      elif self.act_fun == \"tanh\" :\n",
        "        self.h[i] = tanh(self.a[i])\n",
        "      elif self.act_fun == \"ReLU\" :\n",
        "        self.h[i] = relu(self.a[i])\n",
        "    \n",
        "    self.a[self.L] = self.b[self.L] + np.dot(self.W[self.L], self.h[self.L-1])\n",
        "    self.h[self.L] = softmax(self.a[self.L]) # h[L] = y_hat\n",
        "\n",
        "  #########################################################\n",
        "\n",
        "  def back_propagation(self, y) :\n",
        "    if self.loss == \"cross_entropy\" :\n",
        "      self.d_a[self.L] = self.h[self.L] - y\n",
        "    elif self.loss == \"mean_squared_error\" :\n",
        "      self.d_a[self.L] = (self.h[self.L] - y) * (self.h[self.L] * (1. - self.h[self.L]))\n",
        "    \n",
        "    self.d_b[self.L] = np.sum(self.d_a[self.L], axis=1, keepdims=True)\n",
        "    self.d_W[self.L] = np.dot(self.d_a[self.L], self.h[self.L-1].T) + self.w_d * self.W[self.L]\n",
        "    \n",
        "    for i in range(self.L-1, 0, -1) :\n",
        "      d_h_i = np.dot(self.W[i+1].T, self.d_a[i+1])\n",
        "      \n",
        "      if self.act_fun == \"sigmoid\" :\n",
        "        g_dash_a_i = self.h[i] * (1. - self.h[i])\n",
        "      elif self.act_fun == \"tanh\" :\n",
        "        g_dash_a_i = 1. - self.h[i]**2\n",
        "      elif self.act_fun == \"ReLU\" :\n",
        "        g_dash_a_i = np.where(self.h[i] > 0., 1., 0.)\n",
        "      \n",
        "      self.d_a[i] = d_h_i * g_dash_a_i\n",
        "      self.d_b[i] = np.sum(self.d_a[i], axis=1, keepdims=True)\n",
        "      self.d_W[i] = np.dot(self.d_a[i], self.h[i-1].T) + self.w_d * self.W[i]\n",
        "\n",
        "  ############################################################\n",
        "\n",
        "  def nag_forward_propagation(self, x) :\n",
        "    self.h[0] = x\n",
        "\n",
        "    for i in range(1, self.L, 1) :\n",
        "      self.a[i] = self.b_look[i] + np.dot(self.W_look[i], self.h[i-1])\n",
        "\n",
        "      if self.act_fun == \"sigmoid\" :\n",
        "        self.h[i] = sigmoid(self.a[i])\n",
        "      elif self.act_fun == \"tanh\" :\n",
        "        self.h[i] = tanh(self.a[i])\n",
        "      elif self.act_fun == \"ReLU\" :\n",
        "        self.h[i] = relu(self.a[i])\n",
        "    \n",
        "    self.a[self.L] = self.b_look[self.L] + np.dot(self.W_look[self.L], self.h[self.L-1])\n",
        "    self.h[self.L] = softmax(self.a[self.L]) # h[L] = y_hat\n",
        "\n",
        "  #########################################################\n",
        "\n",
        "  def nag_back_propagation(self, y) :\n",
        "    if self.loss == \"cross_entropy\" :\n",
        "      self.d_a[self.L] = self.h[self.L] - y\n",
        "    elif self.loss == \"mean_squared_error\" :\n",
        "      self.d_a[self.L] = (self.h[self.L] - y) * (self.h[self.L] * (1. - self.h[self.L]))\n",
        "    \n",
        "    self.d_b[self.L] = np.sum(self.d_a[self.L], axis=1, keepdims=True)\n",
        "    self.d_W[self.L] = np.dot(self.d_a[self.L], self.h[self.L-1].T) + self.w_d * self.W_look[self.L]\n",
        "    \n",
        "    for i in range(self.L-1, 0, -1) :\n",
        "      d_h_i = np.dot(self.W_look[i+1].T, self.d_a[i+1])\n",
        "      \n",
        "      if self.act_fun == \"sigmoid\" :\n",
        "        g_dash_a_i = self.h[i] * (1. - self.h[i])\n",
        "      elif self.act_fun == \"tanh\" :\n",
        "        g_dash_a_i = 1. - self.h[i]**2\n",
        "      elif self.act_fun == \"ReLU\" :\n",
        "        g_dash_a_i = np.where(self.h[i] > 0., 1., 0.)\n",
        "      \n",
        "      self.d_a[i] = d_h_i * g_dash_a_i\n",
        "      self.d_b[i] = np.sum(self.d_a[i], axis=1, keepdims=True)\n",
        "      self.d_W[i] = np.dot(self.d_a[i], self.h[i-1].T) + self.w_d * self.W_look[i]\n",
        "\n",
        "  ############################################################\n",
        "\n",
        "  def predict_prob(self, x) :\n",
        "    a_temp = [0 for i in range(0, self.L+1, 1)]\n",
        "    h_temp = [0 for i in range(0, self.L+1, 1)]\n",
        "    h_temp[0] = x\n",
        "\n",
        "    for i in range(1, self.L, 1) :\n",
        "      a_temp[i] = self.b[i] + np.dot(self.W[i], h_temp[i-1])\n",
        "\n",
        "      if self.act_fun == \"sigmoid\" :\n",
        "        h_temp[i] = sigmoid(a_temp[i])\n",
        "      elif self.act_fun == \"tanh\" :\n",
        "        h_temp[i] = tanh(a_temp[i])\n",
        "      elif self.act_fun == \"ReLU\" :\n",
        "        h_temp[i] = relu(a_temp[i])\n",
        "    \n",
        "    a_temp[self.L] = self.b[self.L] + np.dot(self.W[self.L], h_temp[self.L-1])\n",
        "    h_temp[self.L] = softmax(a_temp[self.L]) # h[L] = y_hat\n",
        "\n",
        "    return h_temp[self.L].T\n",
        "  \n",
        "  #############################################################\n",
        "\n",
        "  def loss_val(self, y_hat, y) :\n",
        "    loss_val = 0.0\n",
        "    N = y.shape[0]\n",
        "\n",
        "    if self.loss == \"cross_entropy\" :\n",
        "      for i in range(0, N, 1) :\n",
        "        temp_loss = math.log(y_hat[i][y[i].argmax()])\n",
        "        loss_val += temp_loss\n",
        "      \n",
        "      loss_val *= (-1.0/N)\n",
        "    \n",
        "    elif self.loss == \"mean_squared_error\" :\n",
        "      loss_val = np.sum((y - y_hat)**2) / N\n",
        "\n",
        "    return loss_val\n",
        "\n",
        "  ##############################################################\n",
        "\n",
        "  def accuracy(self, y_hat, y) :\n",
        "    N = y.shape[0]\n",
        "    n_correct = 0\n",
        "\n",
        "    for i in range(0, N, 1) :\n",
        "      if y[i].argmax() == y_hat[i].argmax() :\n",
        "        n_correct += 1\n",
        "    \n",
        "    return 100 * n_correct / N\n",
        "\n",
        "  ###############################################################\n",
        "\n",
        "  def sgd(self, X, y) :\n",
        "    t = 0\n",
        "    N = X.shape[0]\n",
        "\n",
        "    while t < self.epochs :\n",
        "      for j in range(0, N, self.b_sz) :\n",
        "        r_idx = j + self.b_sz\n",
        "        if (j + self.b_sz) > N :\n",
        "          r_idx = N\n",
        "        self.forward_propagation(X[j:r_idx].T)\n",
        "        self.back_propagation(y[j:r_idx].T)\n",
        "        \n",
        "        for idx in range(1, self.L+1, 1) :\n",
        "          self.W[idx] = self.W[idx] - (self.lr * self.d_W[idx])\n",
        "          self.b[idx] = self.b[idx] - (self.lr * self.d_b[idx])\n",
        "\n",
        "      t += 1\n",
        "\n",
        "  #################################################################\n",
        "\n",
        "  def mgd(self, X, y) :\n",
        "    t = 0\n",
        "    N = X.shape[0]\n",
        "    n_step = 0\n",
        "\n",
        "    while t < self.epochs :\n",
        "      for j in range(0, N, self.b_sz) :\n",
        "        n_step += 1\n",
        "        r_idx = j + self.b_sz\n",
        "        if (j + self.b_sz) > N :\n",
        "          r_idx = N\n",
        "        self.forward_propagation(X[j:r_idx].T)\n",
        "        self.back_propagation(y[j:r_idx].T)\n",
        "\n",
        "        for idx in range(1, self.L+1, 1) :\n",
        "          if n_step == 1 :\n",
        "            self.u_W[idx] = (self.lr * self.d_W[idx])\n",
        "            self.u_b[idx] = (self.lr * self.d_b[idx])\n",
        "          else :\n",
        "            self.u_W[idx] = (self.mom * self.u_W[idx]) + (self.lr * self.d_W[idx])\n",
        "            self.u_b[idx] = (self.mom * self.u_b[idx]) + (self.lr * self.d_b[idx])\n",
        "          \n",
        "          self.W[idx] = self.W[idx] - self.u_W[idx]\n",
        "          self.b[idx] = self.b[idx] - self.u_b[idx]\n",
        "      \n",
        "      t += 1\n",
        "\n",
        "  ##################################################################\n",
        "\n",
        "  def nagd(self, X, y) :\n",
        "    t = 0\n",
        "    N = X.shape[0]\n",
        "    n_step = 0\n",
        "\n",
        "    while t < self.epochs :\n",
        "      for j in range(0, N, self.b_sz) :\n",
        "        n_step += 1\n",
        "        r_idx = j + self.b_sz\n",
        "        if (j + self.b_sz) > N :\n",
        "          r_idx = N\n",
        "        if n_step == 1 :\n",
        "          self.forward_propagation(X[j:r_idx].T)\n",
        "          self.back_propagation(y[j:r_idx].T)\n",
        "        else :\n",
        "          for idx in range(1, self.L+1, 1) :\n",
        "            self.W_look[idx] = self.W[idx] - (self.mom * self.u_W[idx])\n",
        "            self.b_look[idx] = self.b[idx] - (self.mom * self.u_b[idx])\n",
        "          self.nag_forward_propagation(X[j:r_idx].T)\n",
        "          self.nag_back_propagation(y[j:r_idx].T)\n",
        "\n",
        "        for idx in range(1, self.L+1, 1) :\n",
        "          if n_step == 1 :\n",
        "            self.u_W[idx] = (self.lr * self.d_W[idx])\n",
        "            self.u_b[idx] = (self.lr * self.d_b[idx])\n",
        "          else :\n",
        "            self.u_W[idx] = (self.mom * self.u_W[idx]) + (self.lr * self.d_W[idx])\n",
        "            self.u_b[idx] = (self.mom * self.u_b[idx]) + (self.lr * self.d_b[idx])\n",
        "          \n",
        "          self.W[idx] = self.W[idx] - self.u_W[idx]\n",
        "          self.b[idx] = self.b[idx] - self.u_b[idx]\n",
        "\n",
        "      t += 1\n",
        "\n",
        "  ##############################################################\n",
        "\n",
        "  def rmsprop(self, X, y) :\n",
        "    t = 0\n",
        "    N = X.shape[0]\n",
        "    n_step = 0\n",
        "\n",
        "    while t < self.epochs :\n",
        "      for j in range(0, N, self.b_sz) :\n",
        "        n_step += 1\n",
        "        r_idx = j + self.b_sz\n",
        "        if (j + self.b_sz) > N :\n",
        "          r_idx = N\n",
        "        self.forward_propagation(X[j:r_idx].T)\n",
        "        self.back_propagation(y[j:r_idx].T)\n",
        "\n",
        "        for idx in range(1, self.L+1, 1) :\n",
        "          if n_step == 1 :\n",
        "            self.v_W[idx] = ((1. - self.beta) * (self.d_W[idx]**2))\n",
        "            self.v_b[idx] = ((1. - self.beta) * (self.d_b[idx]**2))\n",
        "          else :\n",
        "            self.v_W[idx] = (self.beta * self.v_W[idx]) + ((1. - self.beta) * (self.d_W[idx]**2))\n",
        "            self.v_b[idx] = (self.beta * self.v_b[idx]) + ((1. - self.beta) * (self.d_b[idx]**2))\n",
        "          \n",
        "          self.W[idx] = self.W[idx] - (self.lr / (np.sqrt(self.v_W[idx] + self.epsilon))) * self.d_W[idx]\n",
        "          self.b[idx] = self.b[idx] - (self.lr / (np.sqrt(self.v_b[idx] + self.epsilon))) * self.d_b[idx]\n",
        "      \n",
        "      t += 1\n",
        "  \n",
        "  ##############################################################\n",
        "\n",
        "  def adam(self, X, y) :\n",
        "    t = 0\n",
        "    N = X.shape[0]\n",
        "    n_step = 0\n",
        "\n",
        "    while t < self.epochs :\n",
        "      for j in range(0, N, self.b_sz) :\n",
        "        n_step += 1\n",
        "        r_idx = j + self.b_sz\n",
        "        if (j + self.b_sz) > N :\n",
        "          r_idx = N\n",
        "        self.forward_propagation(X[j:r_idx].T)\n",
        "        self.back_propagation(y[j:r_idx].T)\n",
        "\n",
        "        for idx in range(1, self.L+1, 1) :\n",
        "          if n_step == 1 :\n",
        "            self.m_W[idx] = ((1. - self.beta1) * self.d_W[idx])\n",
        "            self.m_b[idx] = ((1. - self.beta1) * self.d_b[idx])\n",
        "\n",
        "            self.v_W[idx] = ((1. - self.beta2) * (self.d_W[idx]**2))\n",
        "            self.v_b[idx] = ((1. - self.beta2) * (self.d_b[idx]**2))\n",
        "          else :\n",
        "            self.m_W[idx] = (self.beta1 * self.m_W[idx]) + ((1. - self.beta1) * self.d_W[idx])\n",
        "            self.m_b[idx] = (self.beta1 * self.m_b[idx]) + ((1. - self.beta1) * self.d_b[idx])\n",
        "\n",
        "            self.v_W[idx] = (self.beta2 * self.v_W[idx]) + ((1. - self.beta2) * (self.d_W[idx]**2))\n",
        "            self.v_b[idx] = (self.beta2 * self.v_b[idx]) + ((1. - self.beta2) * (self.d_b[idx]**2))\n",
        "          \n",
        "          self.W[idx] = self.W[idx] - (self.lr / (np.sqrt(self.v_W[idx] / (1. - self.beta2**n_step) + self.epsilon))) * (self.m_W[idx] / (1. - self.beta1**n_step))\n",
        "          self.b[idx] = self.b[idx] - (self.lr / (np.sqrt(self.v_b[idx] / (1. - self.beta2**n_step) + self.epsilon))) * (self.m_b[idx] / (1. - self.beta1**n_step))\n",
        "      \n",
        "      t += 1\n",
        "\n",
        "  ##############################################################\n",
        "\n",
        "  def nadam(self, X, y) :\n",
        "    t = 0\n",
        "    N = X.shape[0]\n",
        "    n_step = 0\n",
        "\n",
        "    while t < self.epochs :\n",
        "      for j in range(0, N, self.b_sz) :\n",
        "        n_step += 1\n",
        "        r_idx = j + self.b_sz\n",
        "        if (j + self.b_sz) > N :\n",
        "          r_idx = N\n",
        "        self.forward_propagation(X[j:r_idx].T)\n",
        "        self.back_propagation(y[j:r_idx].T)\n",
        "\n",
        "        for idx in range(1, self.L+1, 1) :\n",
        "          if n_step == 1 :\n",
        "            self.m_W[idx] = ((1. - self.beta1) * self.d_W[idx])\n",
        "            self.m_b[idx] = ((1. - self.beta1) * self.d_b[idx])\n",
        "\n",
        "            self.v_W[idx] = ((1. - self.beta2) * (self.d_W[idx]**2))\n",
        "            self.v_b[idx] = ((1. - self.beta2) * (self.d_b[idx]**2))\n",
        "          else :\n",
        "            self.m_W[idx] = (self.beta1 * self.m_W[idx]) + ((1. - self.beta1) * self.d_W[idx])\n",
        "            self.m_b[idx] = (self.beta1 * self.m_b[idx]) + ((1. - self.beta1) * self.d_b[idx])\n",
        "\n",
        "            self.v_W[idx] = (self.beta2 * self.v_W[idx]) + ((1. - self.beta2) * (self.d_W[idx]**2))\n",
        "            self.v_b[idx] = (self.beta2 * self.v_b[idx]) + ((1. - self.beta2) * (self.d_b[idx]**2))\n",
        "          \n",
        "          W_term = (self.beta1 / (1. - self.beta1**n_step)) * self.m_W[idx]  + ((1. - self.beta1) / (1. - self.beta1**n_step)) * self.d_W[idx]\n",
        "          b_term = (self.beta1 / (1. - self.beta1**n_step)) * self.m_b[idx]  + ((1. - self.beta1) / (1. - self.beta1**n_step)) * self.d_b[idx]\n",
        "\n",
        "          self.W[idx] = self.W[idx] - (self.lr / (np.sqrt(self.v_W[idx] / (1. - self.beta2**n_step) + self.epsilon))) * W_term\n",
        "          self.b[idx] = self.b[idx] - (self.lr / (np.sqrt(self.v_b[idx] / (1. - self.beta2**n_step) + self.epsilon))) * b_term\n",
        "      \n",
        "      t += 1\n",
        "\n",
        "  ##############################################################\n",
        "\n",
        "  def train(self, X_train, y_train) :\n",
        "    if self.optimizer == \"sgd\" :\n",
        "      self.sgd(X_train, y_train)\n",
        "    elif self.optimizer == \"momentum\" :\n",
        "      self.mgd(X_train, y_train)\n",
        "    elif self.optimizer == \"nag\" :\n",
        "      self.nagd(X_train, y_train)\n",
        "    elif self.optimizer == \"rmsprop\" :\n",
        "      self.rmsprop(X_train, y_train)\n",
        "    elif self.optimizer == \"adam\" :\n",
        "      self.adam(X_train, y_train)\n",
        "    elif self.optimizer == \"nadam\" :\n",
        "      self.nadam(X_train, y_train)"
      ],
      "metadata": {
        "id": "XN88sk1-BdCr"
      },
      "execution_count": null,
      "outputs": []
    },
    {
      "cell_type": "code",
      "source": [
        "def my_confusion_matrix(y_test, y_pred, k) :\n",
        "    arr = np.zeros((k,k)).astype(int).reshape(k,k)\n",
        "\n",
        "    for i in range(len(y_test)) :\n",
        "        a = y_test[i]\n",
        "        b = y_pred[i]\n",
        "        if a == b :\n",
        "            arr[a][a] = arr[a][a] + 1\n",
        "        else :\n",
        "            arr[a][b] = arr[a][b] + 1\n",
        "    return arr"
      ],
      "metadata": {
        "id": "hqHoGrcBapt7"
      },
      "execution_count": null,
      "outputs": []
    },
    {
      "cell_type": "code",
      "source": [
        "x_train, y_train, x_valid, y_valid, x_test, y_test = load_data()"
      ],
      "metadata": {
        "id": "HcSUGmEuC4o6"
      },
      "execution_count": null,
      "outputs": []
    },
    {
      "cell_type": "code",
      "source": [
        "# hyperparameters for the best model identified in Q4\n",
        "epochs = 10\n",
        "nhl = 3\n",
        "sz = 128\n",
        "w_d = 0.0\n",
        "lr = 0.001\n",
        "optimizer = \"sgd\"\n",
        "b_sz = 32\n",
        "weight_init = \"Xavier\"\n",
        "act_fun = \"ReLU\""
      ],
      "metadata": {
        "id": "D0obm2eJDEBu"
      },
      "execution_count": null,
      "outputs": []
    },
    {
      "cell_type": "code",
      "source": [
        "wandb.init(project = 'cs6910_dl_assgn_1_q_7')\n",
        "wandb.run.name = 'best model'\n",
        "\n",
        "print('Building the model with the best hyperparameters...')\n",
        "nn_model = my_nn(nhl=nhl, sz=sz, weight_init=weight_init, act_fun=act_fun, epochs=epochs, b_sz=b_sz, optimizer=optimizer, lr=lr, w_d=w_d)\n",
        "nn_model.train(x_train, y_train)\n",
        "print('Model built successfully.')\n",
        "\n",
        "y_test_hat = nn_model.predict_prob(x_test.T)\n",
        "test_acc = nn_model.accuracy(y_test_hat, y_test)\n",
        "print('Accuracy on test set = ', test_acc)"
      ],
      "metadata": {
        "colab": {
          "base_uri": "https://localhost:8080/",
          "height": 173
        },
        "id": "zw5DO_t_Elmn",
        "outputId": "cd0ef94d-1851-4a75-8b35-7631eb1db057"
      },
      "execution_count": null,
      "outputs": [
        {
          "output_type": "stream",
          "name": "stderr",
          "text": [
            "\u001b[34m\u001b[1mwandb\u001b[0m: Currently logged in as: \u001b[33mcs22m059\u001b[0m. Use \u001b[1m`wandb login --relogin`\u001b[0m to force relogin\n"
          ]
        },
        {
          "output_type": "display_data",
          "data": {
            "text/plain": [
              "<IPython.core.display.HTML object>"
            ],
            "text/html": [
              "Tracking run with wandb version 0.14.0"
            ]
          },
          "metadata": {}
        },
        {
          "output_type": "display_data",
          "data": {
            "text/plain": [
              "<IPython.core.display.HTML object>"
            ],
            "text/html": [
              "Run data is saved locally in <code>/content/wandb/run-20230319_104750-fs78nlrr</code>"
            ]
          },
          "metadata": {}
        },
        {
          "output_type": "display_data",
          "data": {
            "text/plain": [
              "<IPython.core.display.HTML object>"
            ],
            "text/html": [
              "Syncing run <strong><a href='https://wandb.ai/cs22m059/cs6910_dl_assgn_1_q_7/runs/fs78nlrr' target=\"_blank\">blooming-shadow-1</a></strong> to <a href='https://wandb.ai/cs22m059/cs6910_dl_assgn_1_q_7' target=\"_blank\">Weights & Biases</a> (<a href='https://wandb.me/run' target=\"_blank\">docs</a>)<br/>"
            ]
          },
          "metadata": {}
        },
        {
          "output_type": "display_data",
          "data": {
            "text/plain": [
              "<IPython.core.display.HTML object>"
            ],
            "text/html": [
              " View project at <a href='https://wandb.ai/cs22m059/cs6910_dl_assgn_1_q_7' target=\"_blank\">https://wandb.ai/cs22m059/cs6910_dl_assgn_1_q_7</a>"
            ]
          },
          "metadata": {}
        },
        {
          "output_type": "display_data",
          "data": {
            "text/plain": [
              "<IPython.core.display.HTML object>"
            ],
            "text/html": [
              " View run at <a href='https://wandb.ai/cs22m059/cs6910_dl_assgn_1_q_7/runs/fs78nlrr' target=\"_blank\">https://wandb.ai/cs22m059/cs6910_dl_assgn_1_q_7/runs/fs78nlrr</a>"
            ]
          },
          "metadata": {}
        },
        {
          "output_type": "stream",
          "name": "stdout",
          "text": [
            "Building the model with the best hyperparameters...\n",
            "Model built successfully.\n",
            "Accuracy on test set =  87.04\n"
          ]
        }
      ]
    },
    {
      "cell_type": "code",
      "source": [
        "class_map = {\n",
        "0 : 'T-shirt/top',\n",
        "1 : 'Trouser',\n",
        "2 : 'Pullover',\n",
        "3 : 'Dress',\n",
        "4 : 'Coat',\n",
        "5 : 'Sandal',\n",
        "6 : 'Shirt',\n",
        "7 : 'Sneaker',\n",
        "8 : 'Bag',\n",
        "9 : 'Ankle boot'}"
      ],
      "metadata": {
        "id": "kozuJr0NNZHg"
      },
      "execution_count": null,
      "outputs": []
    },
    {
      "cell_type": "code",
      "source": [
        "# plot confusion matrix\n",
        "labels = list(class_map.values())\n",
        "cm = my_confusion_matrix(np.argmax(y_test, axis=1), np.argmax(y_test_hat, axis=1), 10)\n",
        "cm_norm = np.round(cm.astype('float') / cm.sum(axis=1)[:, np.newaxis], 2)\n",
        "\n",
        "fig = ff.create_annotated_heatmap(cm_norm, x=labels, y=labels, colorscale='Blues')\n",
        "fig.update_layout(xaxis_title = \"Predicted Class\", yaxis_title = \"True Class\")\n",
        "fig['data'][0]['showscale'] = True\n",
        "fig.show()\n",
        "wandb.log({'Confusion Matrix': fig})\n",
        "wandb.finish()"
      ],
      "metadata": {
        "id": "sSBF0ZzRInsv",
        "colab": {
          "base_uri": "https://localhost:8080/",
          "height": 675,
          "referenced_widgets": [
            "6a22623fa3ce4cb0b7247b37f378c652",
            "beca3542f24a4565b7ff59dea5e9552d",
            "5df44baf69194fdb9c6ed0c29ce46a73",
            "2ccc7cee264842e488ccee812e982641",
            "6a8f79a2e2ca4a9e9d283bd8097cba46",
            "611f3ab35a0441a987fcad4978f77dac",
            "2c58697790b949ef9ff0648aad46cfcd",
            "111cc074e6c740a0957b66b5d194d13a"
          ]
        },
        "outputId": "d23ba4aa-a156-49ce-e57d-b2f4e6d15aa3"
      },
      "execution_count": null,
      "outputs": [
        {
          "output_type": "display_data",
          "data": {
            "text/html": [
              "<html>\n",
              "<head><meta charset=\"utf-8\" /></head>\n",
              "<body>\n",
              "    <div>            <script src=\"https://cdnjs.cloudflare.com/ajax/libs/mathjax/2.7.5/MathJax.js?config=TeX-AMS-MML_SVG\"></script><script type=\"text/javascript\">if (window.MathJax) {MathJax.Hub.Config({SVG: {font: \"STIX-Web\"}});}</script>                <script type=\"text/javascript\">window.PlotlyConfig = {MathJaxConfig: 'local'};</script>\n",
              "        <script src=\"https://cdn.plot.ly/plotly-2.8.3.min.js\"></script>                <div id=\"4c3eb729-311f-4754-a138-cec156438924\" class=\"plotly-graph-div\" style=\"height:525px; width:100%;\"></div>            <script type=\"text/javascript\">                                    window.PLOTLYENV=window.PLOTLYENV || {};                                    if (document.getElementById(\"4c3eb729-311f-4754-a138-cec156438924\")) {                    Plotly.newPlot(                        \"4c3eb729-311f-4754-a138-cec156438924\",                        [{\"colorscale\":[[0.0,\"rgb(247,251,255)\"],[0.125,\"rgb(222,235,247)\"],[0.25,\"rgb(198,219,239)\"],[0.375,\"rgb(158,202,225)\"],[0.5,\"rgb(107,174,214)\"],[0.625,\"rgb(66,146,198)\"],[0.75,\"rgb(33,113,181)\"],[0.875,\"rgb(8,81,156)\"],[1.0,\"rgb(8,48,107)\"]],\"reversescale\":false,\"showscale\":true,\"x\":[\"T-shirt/top\",\"Trouser\",\"Pullover\",\"Dress\",\"Coat\",\"Sandal\",\"Shirt\",\"Sneaker\",\"Bag\",\"Ankle boot\"],\"y\":[\"T-shirt/top\",\"Trouser\",\"Pullover\",\"Dress\",\"Coat\",\"Sandal\",\"Shirt\",\"Sneaker\",\"Bag\",\"Ankle boot\"],\"z\":[[0.83,0.0,0.01,0.02,0.0,0.0,0.12,0.0,0.01,0.0],[0.0,0.97,0.0,0.02,0.0,0.0,0.0,0.0,0.0,0.0],[0.01,0.0,0.71,0.01,0.08,0.0,0.19,0.0,0.0,0.0],[0.03,0.01,0.01,0.84,0.06,0.0,0.04,0.0,0.01,0.0],[0.0,0.0,0.09,0.01,0.75,0.0,0.14,0.0,0.01,0.0],[0.0,0.0,0.0,0.0,0.0,0.93,0.0,0.04,0.0,0.02],[0.12,0.0,0.04,0.02,0.03,0.0,0.78,0.0,0.01,0.0],[0.0,0.0,0.0,0.0,0.0,0.01,0.0,0.97,0.0,0.03],[0.0,0.0,0.0,0.0,0.0,0.0,0.01,0.01,0.97,0.0],[0.0,0.0,0.0,0.0,0.0,0.0,0.0,0.04,0.0,0.95]],\"type\":\"heatmap\"}],                        {\"annotations\":[{\"font\":{\"color\":\"#FFFFFF\"},\"showarrow\":false,\"text\":\"0.83\",\"x\":\"T-shirt/top\",\"xref\":\"x\",\"y\":\"T-shirt/top\",\"yref\":\"y\"},{\"font\":{\"color\":\"#000000\"},\"showarrow\":false,\"text\":\"0.0\",\"x\":\"Trouser\",\"xref\":\"x\",\"y\":\"T-shirt/top\",\"yref\":\"y\"},{\"font\":{\"color\":\"#000000\"},\"showarrow\":false,\"text\":\"0.01\",\"x\":\"Pullover\",\"xref\":\"x\",\"y\":\"T-shirt/top\",\"yref\":\"y\"},{\"font\":{\"color\":\"#000000\"},\"showarrow\":false,\"text\":\"0.02\",\"x\":\"Dress\",\"xref\":\"x\",\"y\":\"T-shirt/top\",\"yref\":\"y\"},{\"font\":{\"color\":\"#000000\"},\"showarrow\":false,\"text\":\"0.0\",\"x\":\"Coat\",\"xref\":\"x\",\"y\":\"T-shirt/top\",\"yref\":\"y\"},{\"font\":{\"color\":\"#000000\"},\"showarrow\":false,\"text\":\"0.0\",\"x\":\"Sandal\",\"xref\":\"x\",\"y\":\"T-shirt/top\",\"yref\":\"y\"},{\"font\":{\"color\":\"#000000\"},\"showarrow\":false,\"text\":\"0.12\",\"x\":\"Shirt\",\"xref\":\"x\",\"y\":\"T-shirt/top\",\"yref\":\"y\"},{\"font\":{\"color\":\"#000000\"},\"showarrow\":false,\"text\":\"0.0\",\"x\":\"Sneaker\",\"xref\":\"x\",\"y\":\"T-shirt/top\",\"yref\":\"y\"},{\"font\":{\"color\":\"#000000\"},\"showarrow\":false,\"text\":\"0.01\",\"x\":\"Bag\",\"xref\":\"x\",\"y\":\"T-shirt/top\",\"yref\":\"y\"},{\"font\":{\"color\":\"#000000\"},\"showarrow\":false,\"text\":\"0.0\",\"x\":\"Ankle boot\",\"xref\":\"x\",\"y\":\"T-shirt/top\",\"yref\":\"y\"},{\"font\":{\"color\":\"#000000\"},\"showarrow\":false,\"text\":\"0.0\",\"x\":\"T-shirt/top\",\"xref\":\"x\",\"y\":\"Trouser\",\"yref\":\"y\"},{\"font\":{\"color\":\"#FFFFFF\"},\"showarrow\":false,\"text\":\"0.97\",\"x\":\"Trouser\",\"xref\":\"x\",\"y\":\"Trouser\",\"yref\":\"y\"},{\"font\":{\"color\":\"#000000\"},\"showarrow\":false,\"text\":\"0.0\",\"x\":\"Pullover\",\"xref\":\"x\",\"y\":\"Trouser\",\"yref\":\"y\"},{\"font\":{\"color\":\"#000000\"},\"showarrow\":false,\"text\":\"0.02\",\"x\":\"Dress\",\"xref\":\"x\",\"y\":\"Trouser\",\"yref\":\"y\"},{\"font\":{\"color\":\"#000000\"},\"showarrow\":false,\"text\":\"0.0\",\"x\":\"Coat\",\"xref\":\"x\",\"y\":\"Trouser\",\"yref\":\"y\"},{\"font\":{\"color\":\"#000000\"},\"showarrow\":false,\"text\":\"0.0\",\"x\":\"Sandal\",\"xref\":\"x\",\"y\":\"Trouser\",\"yref\":\"y\"},{\"font\":{\"color\":\"#000000\"},\"showarrow\":false,\"text\":\"0.0\",\"x\":\"Shirt\",\"xref\":\"x\",\"y\":\"Trouser\",\"yref\":\"y\"},{\"font\":{\"color\":\"#000000\"},\"showarrow\":false,\"text\":\"0.0\",\"x\":\"Sneaker\",\"xref\":\"x\",\"y\":\"Trouser\",\"yref\":\"y\"},{\"font\":{\"color\":\"#000000\"},\"showarrow\":false,\"text\":\"0.0\",\"x\":\"Bag\",\"xref\":\"x\",\"y\":\"Trouser\",\"yref\":\"y\"},{\"font\":{\"color\":\"#000000\"},\"showarrow\":false,\"text\":\"0.0\",\"x\":\"Ankle boot\",\"xref\":\"x\",\"y\":\"Trouser\",\"yref\":\"y\"},{\"font\":{\"color\":\"#000000\"},\"showarrow\":false,\"text\":\"0.01\",\"x\":\"T-shirt/top\",\"xref\":\"x\",\"y\":\"Pullover\",\"yref\":\"y\"},{\"font\":{\"color\":\"#000000\"},\"showarrow\":false,\"text\":\"0.0\",\"x\":\"Trouser\",\"xref\":\"x\",\"y\":\"Pullover\",\"yref\":\"y\"},{\"font\":{\"color\":\"#FFFFFF\"},\"showarrow\":false,\"text\":\"0.71\",\"x\":\"Pullover\",\"xref\":\"x\",\"y\":\"Pullover\",\"yref\":\"y\"},{\"font\":{\"color\":\"#000000\"},\"showarrow\":false,\"text\":\"0.01\",\"x\":\"Dress\",\"xref\":\"x\",\"y\":\"Pullover\",\"yref\":\"y\"},{\"font\":{\"color\":\"#000000\"},\"showarrow\":false,\"text\":\"0.08\",\"x\":\"Coat\",\"xref\":\"x\",\"y\":\"Pullover\",\"yref\":\"y\"},{\"font\":{\"color\":\"#000000\"},\"showarrow\":false,\"text\":\"0.0\",\"x\":\"Sandal\",\"xref\":\"x\",\"y\":\"Pullover\",\"yref\":\"y\"},{\"font\":{\"color\":\"#000000\"},\"showarrow\":false,\"text\":\"0.19\",\"x\":\"Shirt\",\"xref\":\"x\",\"y\":\"Pullover\",\"yref\":\"y\"},{\"font\":{\"color\":\"#000000\"},\"showarrow\":false,\"text\":\"0.0\",\"x\":\"Sneaker\",\"xref\":\"x\",\"y\":\"Pullover\",\"yref\":\"y\"},{\"font\":{\"color\":\"#000000\"},\"showarrow\":false,\"text\":\"0.0\",\"x\":\"Bag\",\"xref\":\"x\",\"y\":\"Pullover\",\"yref\":\"y\"},{\"font\":{\"color\":\"#000000\"},\"showarrow\":false,\"text\":\"0.0\",\"x\":\"Ankle boot\",\"xref\":\"x\",\"y\":\"Pullover\",\"yref\":\"y\"},{\"font\":{\"color\":\"#000000\"},\"showarrow\":false,\"text\":\"0.03\",\"x\":\"T-shirt/top\",\"xref\":\"x\",\"y\":\"Dress\",\"yref\":\"y\"},{\"font\":{\"color\":\"#000000\"},\"showarrow\":false,\"text\":\"0.01\",\"x\":\"Trouser\",\"xref\":\"x\",\"y\":\"Dress\",\"yref\":\"y\"},{\"font\":{\"color\":\"#000000\"},\"showarrow\":false,\"text\":\"0.01\",\"x\":\"Pullover\",\"xref\":\"x\",\"y\":\"Dress\",\"yref\":\"y\"},{\"font\":{\"color\":\"#FFFFFF\"},\"showarrow\":false,\"text\":\"0.84\",\"x\":\"Dress\",\"xref\":\"x\",\"y\":\"Dress\",\"yref\":\"y\"},{\"font\":{\"color\":\"#000000\"},\"showarrow\":false,\"text\":\"0.06\",\"x\":\"Coat\",\"xref\":\"x\",\"y\":\"Dress\",\"yref\":\"y\"},{\"font\":{\"color\":\"#000000\"},\"showarrow\":false,\"text\":\"0.0\",\"x\":\"Sandal\",\"xref\":\"x\",\"y\":\"Dress\",\"yref\":\"y\"},{\"font\":{\"color\":\"#000000\"},\"showarrow\":false,\"text\":\"0.04\",\"x\":\"Shirt\",\"xref\":\"x\",\"y\":\"Dress\",\"yref\":\"y\"},{\"font\":{\"color\":\"#000000\"},\"showarrow\":false,\"text\":\"0.0\",\"x\":\"Sneaker\",\"xref\":\"x\",\"y\":\"Dress\",\"yref\":\"y\"},{\"font\":{\"color\":\"#000000\"},\"showarrow\":false,\"text\":\"0.01\",\"x\":\"Bag\",\"xref\":\"x\",\"y\":\"Dress\",\"yref\":\"y\"},{\"font\":{\"color\":\"#000000\"},\"showarrow\":false,\"text\":\"0.0\",\"x\":\"Ankle boot\",\"xref\":\"x\",\"y\":\"Dress\",\"yref\":\"y\"},{\"font\":{\"color\":\"#000000\"},\"showarrow\":false,\"text\":\"0.0\",\"x\":\"T-shirt/top\",\"xref\":\"x\",\"y\":\"Coat\",\"yref\":\"y\"},{\"font\":{\"color\":\"#000000\"},\"showarrow\":false,\"text\":\"0.0\",\"x\":\"Trouser\",\"xref\":\"x\",\"y\":\"Coat\",\"yref\":\"y\"},{\"font\":{\"color\":\"#000000\"},\"showarrow\":false,\"text\":\"0.09\",\"x\":\"Pullover\",\"xref\":\"x\",\"y\":\"Coat\",\"yref\":\"y\"},{\"font\":{\"color\":\"#000000\"},\"showarrow\":false,\"text\":\"0.01\",\"x\":\"Dress\",\"xref\":\"x\",\"y\":\"Coat\",\"yref\":\"y\"},{\"font\":{\"color\":\"#FFFFFF\"},\"showarrow\":false,\"text\":\"0.75\",\"x\":\"Coat\",\"xref\":\"x\",\"y\":\"Coat\",\"yref\":\"y\"},{\"font\":{\"color\":\"#000000\"},\"showarrow\":false,\"text\":\"0.0\",\"x\":\"Sandal\",\"xref\":\"x\",\"y\":\"Coat\",\"yref\":\"y\"},{\"font\":{\"color\":\"#000000\"},\"showarrow\":false,\"text\":\"0.14\",\"x\":\"Shirt\",\"xref\":\"x\",\"y\":\"Coat\",\"yref\":\"y\"},{\"font\":{\"color\":\"#000000\"},\"showarrow\":false,\"text\":\"0.0\",\"x\":\"Sneaker\",\"xref\":\"x\",\"y\":\"Coat\",\"yref\":\"y\"},{\"font\":{\"color\":\"#000000\"},\"showarrow\":false,\"text\":\"0.01\",\"x\":\"Bag\",\"xref\":\"x\",\"y\":\"Coat\",\"yref\":\"y\"},{\"font\":{\"color\":\"#000000\"},\"showarrow\":false,\"text\":\"0.0\",\"x\":\"Ankle boot\",\"xref\":\"x\",\"y\":\"Coat\",\"yref\":\"y\"},{\"font\":{\"color\":\"#000000\"},\"showarrow\":false,\"text\":\"0.0\",\"x\":\"T-shirt/top\",\"xref\":\"x\",\"y\":\"Sandal\",\"yref\":\"y\"},{\"font\":{\"color\":\"#000000\"},\"showarrow\":false,\"text\":\"0.0\",\"x\":\"Trouser\",\"xref\":\"x\",\"y\":\"Sandal\",\"yref\":\"y\"},{\"font\":{\"color\":\"#000000\"},\"showarrow\":false,\"text\":\"0.0\",\"x\":\"Pullover\",\"xref\":\"x\",\"y\":\"Sandal\",\"yref\":\"y\"},{\"font\":{\"color\":\"#000000\"},\"showarrow\":false,\"text\":\"0.0\",\"x\":\"Dress\",\"xref\":\"x\",\"y\":\"Sandal\",\"yref\":\"y\"},{\"font\":{\"color\":\"#000000\"},\"showarrow\":false,\"text\":\"0.0\",\"x\":\"Coat\",\"xref\":\"x\",\"y\":\"Sandal\",\"yref\":\"y\"},{\"font\":{\"color\":\"#FFFFFF\"},\"showarrow\":false,\"text\":\"0.93\",\"x\":\"Sandal\",\"xref\":\"x\",\"y\":\"Sandal\",\"yref\":\"y\"},{\"font\":{\"color\":\"#000000\"},\"showarrow\":false,\"text\":\"0.0\",\"x\":\"Shirt\",\"xref\":\"x\",\"y\":\"Sandal\",\"yref\":\"y\"},{\"font\":{\"color\":\"#000000\"},\"showarrow\":false,\"text\":\"0.04\",\"x\":\"Sneaker\",\"xref\":\"x\",\"y\":\"Sandal\",\"yref\":\"y\"},{\"font\":{\"color\":\"#000000\"},\"showarrow\":false,\"text\":\"0.0\",\"x\":\"Bag\",\"xref\":\"x\",\"y\":\"Sandal\",\"yref\":\"y\"},{\"font\":{\"color\":\"#000000\"},\"showarrow\":false,\"text\":\"0.02\",\"x\":\"Ankle boot\",\"xref\":\"x\",\"y\":\"Sandal\",\"yref\":\"y\"},{\"font\":{\"color\":\"#000000\"},\"showarrow\":false,\"text\":\"0.12\",\"x\":\"T-shirt/top\",\"xref\":\"x\",\"y\":\"Shirt\",\"yref\":\"y\"},{\"font\":{\"color\":\"#000000\"},\"showarrow\":false,\"text\":\"0.0\",\"x\":\"Trouser\",\"xref\":\"x\",\"y\":\"Shirt\",\"yref\":\"y\"},{\"font\":{\"color\":\"#000000\"},\"showarrow\":false,\"text\":\"0.04\",\"x\":\"Pullover\",\"xref\":\"x\",\"y\":\"Shirt\",\"yref\":\"y\"},{\"font\":{\"color\":\"#000000\"},\"showarrow\":false,\"text\":\"0.02\",\"x\":\"Dress\",\"xref\":\"x\",\"y\":\"Shirt\",\"yref\":\"y\"},{\"font\":{\"color\":\"#000000\"},\"showarrow\":false,\"text\":\"0.03\",\"x\":\"Coat\",\"xref\":\"x\",\"y\":\"Shirt\",\"yref\":\"y\"},{\"font\":{\"color\":\"#000000\"},\"showarrow\":false,\"text\":\"0.0\",\"x\":\"Sandal\",\"xref\":\"x\",\"y\":\"Shirt\",\"yref\":\"y\"},{\"font\":{\"color\":\"#FFFFFF\"},\"showarrow\":false,\"text\":\"0.78\",\"x\":\"Shirt\",\"xref\":\"x\",\"y\":\"Shirt\",\"yref\":\"y\"},{\"font\":{\"color\":\"#000000\"},\"showarrow\":false,\"text\":\"0.0\",\"x\":\"Sneaker\",\"xref\":\"x\",\"y\":\"Shirt\",\"yref\":\"y\"},{\"font\":{\"color\":\"#000000\"},\"showarrow\":false,\"text\":\"0.01\",\"x\":\"Bag\",\"xref\":\"x\",\"y\":\"Shirt\",\"yref\":\"y\"},{\"font\":{\"color\":\"#000000\"},\"showarrow\":false,\"text\":\"0.0\",\"x\":\"Ankle boot\",\"xref\":\"x\",\"y\":\"Shirt\",\"yref\":\"y\"},{\"font\":{\"color\":\"#000000\"},\"showarrow\":false,\"text\":\"0.0\",\"x\":\"T-shirt/top\",\"xref\":\"x\",\"y\":\"Sneaker\",\"yref\":\"y\"},{\"font\":{\"color\":\"#000000\"},\"showarrow\":false,\"text\":\"0.0\",\"x\":\"Trouser\",\"xref\":\"x\",\"y\":\"Sneaker\",\"yref\":\"y\"},{\"font\":{\"color\":\"#000000\"},\"showarrow\":false,\"text\":\"0.0\",\"x\":\"Pullover\",\"xref\":\"x\",\"y\":\"Sneaker\",\"yref\":\"y\"},{\"font\":{\"color\":\"#000000\"},\"showarrow\":false,\"text\":\"0.0\",\"x\":\"Dress\",\"xref\":\"x\",\"y\":\"Sneaker\",\"yref\":\"y\"},{\"font\":{\"color\":\"#000000\"},\"showarrow\":false,\"text\":\"0.0\",\"x\":\"Coat\",\"xref\":\"x\",\"y\":\"Sneaker\",\"yref\":\"y\"},{\"font\":{\"color\":\"#000000\"},\"showarrow\":false,\"text\":\"0.01\",\"x\":\"Sandal\",\"xref\":\"x\",\"y\":\"Sneaker\",\"yref\":\"y\"},{\"font\":{\"color\":\"#000000\"},\"showarrow\":false,\"text\":\"0.0\",\"x\":\"Shirt\",\"xref\":\"x\",\"y\":\"Sneaker\",\"yref\":\"y\"},{\"font\":{\"color\":\"#FFFFFF\"},\"showarrow\":false,\"text\":\"0.97\",\"x\":\"Sneaker\",\"xref\":\"x\",\"y\":\"Sneaker\",\"yref\":\"y\"},{\"font\":{\"color\":\"#000000\"},\"showarrow\":false,\"text\":\"0.0\",\"x\":\"Bag\",\"xref\":\"x\",\"y\":\"Sneaker\",\"yref\":\"y\"},{\"font\":{\"color\":\"#000000\"},\"showarrow\":false,\"text\":\"0.03\",\"x\":\"Ankle boot\",\"xref\":\"x\",\"y\":\"Sneaker\",\"yref\":\"y\"},{\"font\":{\"color\":\"#000000\"},\"showarrow\":false,\"text\":\"0.0\",\"x\":\"T-shirt/top\",\"xref\":\"x\",\"y\":\"Bag\",\"yref\":\"y\"},{\"font\":{\"color\":\"#000000\"},\"showarrow\":false,\"text\":\"0.0\",\"x\":\"Trouser\",\"xref\":\"x\",\"y\":\"Bag\",\"yref\":\"y\"},{\"font\":{\"color\":\"#000000\"},\"showarrow\":false,\"text\":\"0.0\",\"x\":\"Pullover\",\"xref\":\"x\",\"y\":\"Bag\",\"yref\":\"y\"},{\"font\":{\"color\":\"#000000\"},\"showarrow\":false,\"text\":\"0.0\",\"x\":\"Dress\",\"xref\":\"x\",\"y\":\"Bag\",\"yref\":\"y\"},{\"font\":{\"color\":\"#000000\"},\"showarrow\":false,\"text\":\"0.0\",\"x\":\"Coat\",\"xref\":\"x\",\"y\":\"Bag\",\"yref\":\"y\"},{\"font\":{\"color\":\"#000000\"},\"showarrow\":false,\"text\":\"0.0\",\"x\":\"Sandal\",\"xref\":\"x\",\"y\":\"Bag\",\"yref\":\"y\"},{\"font\":{\"color\":\"#000000\"},\"showarrow\":false,\"text\":\"0.01\",\"x\":\"Shirt\",\"xref\":\"x\",\"y\":\"Bag\",\"yref\":\"y\"},{\"font\":{\"color\":\"#000000\"},\"showarrow\":false,\"text\":\"0.01\",\"x\":\"Sneaker\",\"xref\":\"x\",\"y\":\"Bag\",\"yref\":\"y\"},{\"font\":{\"color\":\"#FFFFFF\"},\"showarrow\":false,\"text\":\"0.97\",\"x\":\"Bag\",\"xref\":\"x\",\"y\":\"Bag\",\"yref\":\"y\"},{\"font\":{\"color\":\"#000000\"},\"showarrow\":false,\"text\":\"0.0\",\"x\":\"Ankle boot\",\"xref\":\"x\",\"y\":\"Bag\",\"yref\":\"y\"},{\"font\":{\"color\":\"#000000\"},\"showarrow\":false,\"text\":\"0.0\",\"x\":\"T-shirt/top\",\"xref\":\"x\",\"y\":\"Ankle boot\",\"yref\":\"y\"},{\"font\":{\"color\":\"#000000\"},\"showarrow\":false,\"text\":\"0.0\",\"x\":\"Trouser\",\"xref\":\"x\",\"y\":\"Ankle boot\",\"yref\":\"y\"},{\"font\":{\"color\":\"#000000\"},\"showarrow\":false,\"text\":\"0.0\",\"x\":\"Pullover\",\"xref\":\"x\",\"y\":\"Ankle boot\",\"yref\":\"y\"},{\"font\":{\"color\":\"#000000\"},\"showarrow\":false,\"text\":\"0.0\",\"x\":\"Dress\",\"xref\":\"x\",\"y\":\"Ankle boot\",\"yref\":\"y\"},{\"font\":{\"color\":\"#000000\"},\"showarrow\":false,\"text\":\"0.0\",\"x\":\"Coat\",\"xref\":\"x\",\"y\":\"Ankle boot\",\"yref\":\"y\"},{\"font\":{\"color\":\"#000000\"},\"showarrow\":false,\"text\":\"0.0\",\"x\":\"Sandal\",\"xref\":\"x\",\"y\":\"Ankle boot\",\"yref\":\"y\"},{\"font\":{\"color\":\"#000000\"},\"showarrow\":false,\"text\":\"0.0\",\"x\":\"Shirt\",\"xref\":\"x\",\"y\":\"Ankle boot\",\"yref\":\"y\"},{\"font\":{\"color\":\"#000000\"},\"showarrow\":false,\"text\":\"0.04\",\"x\":\"Sneaker\",\"xref\":\"x\",\"y\":\"Ankle boot\",\"yref\":\"y\"},{\"font\":{\"color\":\"#000000\"},\"showarrow\":false,\"text\":\"0.0\",\"x\":\"Bag\",\"xref\":\"x\",\"y\":\"Ankle boot\",\"yref\":\"y\"},{\"font\":{\"color\":\"#FFFFFF\"},\"showarrow\":false,\"text\":\"0.95\",\"x\":\"Ankle boot\",\"xref\":\"x\",\"y\":\"Ankle boot\",\"yref\":\"y\"}],\"xaxis\":{\"dtick\":1,\"gridcolor\":\"rgb(0, 0, 0)\",\"side\":\"top\",\"ticks\":\"\",\"title\":{\"text\":\"Predicted Class\"}},\"yaxis\":{\"dtick\":1,\"ticks\":\"\",\"ticksuffix\":\"  \",\"title\":{\"text\":\"True Class\"}},\"template\":{\"data\":{\"bar\":[{\"error_x\":{\"color\":\"#2a3f5f\"},\"error_y\":{\"color\":\"#2a3f5f\"},\"marker\":{\"line\":{\"color\":\"#E5ECF6\",\"width\":0.5},\"pattern\":{\"fillmode\":\"overlay\",\"size\":10,\"solidity\":0.2}},\"type\":\"bar\"}],\"barpolar\":[{\"marker\":{\"line\":{\"color\":\"#E5ECF6\",\"width\":0.5},\"pattern\":{\"fillmode\":\"overlay\",\"size\":10,\"solidity\":0.2}},\"type\":\"barpolar\"}],\"carpet\":[{\"aaxis\":{\"endlinecolor\":\"#2a3f5f\",\"gridcolor\":\"white\",\"linecolor\":\"white\",\"minorgridcolor\":\"white\",\"startlinecolor\":\"#2a3f5f\"},\"baxis\":{\"endlinecolor\":\"#2a3f5f\",\"gridcolor\":\"white\",\"linecolor\":\"white\",\"minorgridcolor\":\"white\",\"startlinecolor\":\"#2a3f5f\"},\"type\":\"carpet\"}],\"choropleth\":[{\"colorbar\":{\"outlinewidth\":0,\"ticks\":\"\"},\"type\":\"choropleth\"}],\"contour\":[{\"colorbar\":{\"outlinewidth\":0,\"ticks\":\"\"},\"colorscale\":[[0.0,\"#0d0887\"],[0.1111111111111111,\"#46039f\"],[0.2222222222222222,\"#7201a8\"],[0.3333333333333333,\"#9c179e\"],[0.4444444444444444,\"#bd3786\"],[0.5555555555555556,\"#d8576b\"],[0.6666666666666666,\"#ed7953\"],[0.7777777777777778,\"#fb9f3a\"],[0.8888888888888888,\"#fdca26\"],[1.0,\"#f0f921\"]],\"type\":\"contour\"}],\"contourcarpet\":[{\"colorbar\":{\"outlinewidth\":0,\"ticks\":\"\"},\"type\":\"contourcarpet\"}],\"heatmap\":[{\"colorbar\":{\"outlinewidth\":0,\"ticks\":\"\"},\"colorscale\":[[0.0,\"#0d0887\"],[0.1111111111111111,\"#46039f\"],[0.2222222222222222,\"#7201a8\"],[0.3333333333333333,\"#9c179e\"],[0.4444444444444444,\"#bd3786\"],[0.5555555555555556,\"#d8576b\"],[0.6666666666666666,\"#ed7953\"],[0.7777777777777778,\"#fb9f3a\"],[0.8888888888888888,\"#fdca26\"],[1.0,\"#f0f921\"]],\"type\":\"heatmap\"}],\"heatmapgl\":[{\"colorbar\":{\"outlinewidth\":0,\"ticks\":\"\"},\"colorscale\":[[0.0,\"#0d0887\"],[0.1111111111111111,\"#46039f\"],[0.2222222222222222,\"#7201a8\"],[0.3333333333333333,\"#9c179e\"],[0.4444444444444444,\"#bd3786\"],[0.5555555555555556,\"#d8576b\"],[0.6666666666666666,\"#ed7953\"],[0.7777777777777778,\"#fb9f3a\"],[0.8888888888888888,\"#fdca26\"],[1.0,\"#f0f921\"]],\"type\":\"heatmapgl\"}],\"histogram\":[{\"marker\":{\"pattern\":{\"fillmode\":\"overlay\",\"size\":10,\"solidity\":0.2}},\"type\":\"histogram\"}],\"histogram2d\":[{\"colorbar\":{\"outlinewidth\":0,\"ticks\":\"\"},\"colorscale\":[[0.0,\"#0d0887\"],[0.1111111111111111,\"#46039f\"],[0.2222222222222222,\"#7201a8\"],[0.3333333333333333,\"#9c179e\"],[0.4444444444444444,\"#bd3786\"],[0.5555555555555556,\"#d8576b\"],[0.6666666666666666,\"#ed7953\"],[0.7777777777777778,\"#fb9f3a\"],[0.8888888888888888,\"#fdca26\"],[1.0,\"#f0f921\"]],\"type\":\"histogram2d\"}],\"histogram2dcontour\":[{\"colorbar\":{\"outlinewidth\":0,\"ticks\":\"\"},\"colorscale\":[[0.0,\"#0d0887\"],[0.1111111111111111,\"#46039f\"],[0.2222222222222222,\"#7201a8\"],[0.3333333333333333,\"#9c179e\"],[0.4444444444444444,\"#bd3786\"],[0.5555555555555556,\"#d8576b\"],[0.6666666666666666,\"#ed7953\"],[0.7777777777777778,\"#fb9f3a\"],[0.8888888888888888,\"#fdca26\"],[1.0,\"#f0f921\"]],\"type\":\"histogram2dcontour\"}],\"mesh3d\":[{\"colorbar\":{\"outlinewidth\":0,\"ticks\":\"\"},\"type\":\"mesh3d\"}],\"parcoords\":[{\"line\":{\"colorbar\":{\"outlinewidth\":0,\"ticks\":\"\"}},\"type\":\"parcoords\"}],\"pie\":[{\"automargin\":true,\"type\":\"pie\"}],\"scatter\":[{\"marker\":{\"colorbar\":{\"outlinewidth\":0,\"ticks\":\"\"}},\"type\":\"scatter\"}],\"scatter3d\":[{\"line\":{\"colorbar\":{\"outlinewidth\":0,\"ticks\":\"\"}},\"marker\":{\"colorbar\":{\"outlinewidth\":0,\"ticks\":\"\"}},\"type\":\"scatter3d\"}],\"scattercarpet\":[{\"marker\":{\"colorbar\":{\"outlinewidth\":0,\"ticks\":\"\"}},\"type\":\"scattercarpet\"}],\"scattergeo\":[{\"marker\":{\"colorbar\":{\"outlinewidth\":0,\"ticks\":\"\"}},\"type\":\"scattergeo\"}],\"scattergl\":[{\"marker\":{\"colorbar\":{\"outlinewidth\":0,\"ticks\":\"\"}},\"type\":\"scattergl\"}],\"scattermapbox\":[{\"marker\":{\"colorbar\":{\"outlinewidth\":0,\"ticks\":\"\"}},\"type\":\"scattermapbox\"}],\"scatterpolar\":[{\"marker\":{\"colorbar\":{\"outlinewidth\":0,\"ticks\":\"\"}},\"type\":\"scatterpolar\"}],\"scatterpolargl\":[{\"marker\":{\"colorbar\":{\"outlinewidth\":0,\"ticks\":\"\"}},\"type\":\"scatterpolargl\"}],\"scatterternary\":[{\"marker\":{\"colorbar\":{\"outlinewidth\":0,\"ticks\":\"\"}},\"type\":\"scatterternary\"}],\"surface\":[{\"colorbar\":{\"outlinewidth\":0,\"ticks\":\"\"},\"colorscale\":[[0.0,\"#0d0887\"],[0.1111111111111111,\"#46039f\"],[0.2222222222222222,\"#7201a8\"],[0.3333333333333333,\"#9c179e\"],[0.4444444444444444,\"#bd3786\"],[0.5555555555555556,\"#d8576b\"],[0.6666666666666666,\"#ed7953\"],[0.7777777777777778,\"#fb9f3a\"],[0.8888888888888888,\"#fdca26\"],[1.0,\"#f0f921\"]],\"type\":\"surface\"}],\"table\":[{\"cells\":{\"fill\":{\"color\":\"#EBF0F8\"},\"line\":{\"color\":\"white\"}},\"header\":{\"fill\":{\"color\":\"#C8D4E3\"},\"line\":{\"color\":\"white\"}},\"type\":\"table\"}]},\"layout\":{\"annotationdefaults\":{\"arrowcolor\":\"#2a3f5f\",\"arrowhead\":0,\"arrowwidth\":1},\"autotypenumbers\":\"strict\",\"coloraxis\":{\"colorbar\":{\"outlinewidth\":0,\"ticks\":\"\"}},\"colorscale\":{\"diverging\":[[0,\"#8e0152\"],[0.1,\"#c51b7d\"],[0.2,\"#de77ae\"],[0.3,\"#f1b6da\"],[0.4,\"#fde0ef\"],[0.5,\"#f7f7f7\"],[0.6,\"#e6f5d0\"],[0.7,\"#b8e186\"],[0.8,\"#7fbc41\"],[0.9,\"#4d9221\"],[1,\"#276419\"]],\"sequential\":[[0.0,\"#0d0887\"],[0.1111111111111111,\"#46039f\"],[0.2222222222222222,\"#7201a8\"],[0.3333333333333333,\"#9c179e\"],[0.4444444444444444,\"#bd3786\"],[0.5555555555555556,\"#d8576b\"],[0.6666666666666666,\"#ed7953\"],[0.7777777777777778,\"#fb9f3a\"],[0.8888888888888888,\"#fdca26\"],[1.0,\"#f0f921\"]],\"sequentialminus\":[[0.0,\"#0d0887\"],[0.1111111111111111,\"#46039f\"],[0.2222222222222222,\"#7201a8\"],[0.3333333333333333,\"#9c179e\"],[0.4444444444444444,\"#bd3786\"],[0.5555555555555556,\"#d8576b\"],[0.6666666666666666,\"#ed7953\"],[0.7777777777777778,\"#fb9f3a\"],[0.8888888888888888,\"#fdca26\"],[1.0,\"#f0f921\"]]},\"colorway\":[\"#636efa\",\"#EF553B\",\"#00cc96\",\"#ab63fa\",\"#FFA15A\",\"#19d3f3\",\"#FF6692\",\"#B6E880\",\"#FF97FF\",\"#FECB52\"],\"font\":{\"color\":\"#2a3f5f\"},\"geo\":{\"bgcolor\":\"white\",\"lakecolor\":\"white\",\"landcolor\":\"#E5ECF6\",\"showlakes\":true,\"showland\":true,\"subunitcolor\":\"white\"},\"hoverlabel\":{\"align\":\"left\"},\"hovermode\":\"closest\",\"mapbox\":{\"style\":\"light\"},\"paper_bgcolor\":\"white\",\"plot_bgcolor\":\"#E5ECF6\",\"polar\":{\"angularaxis\":{\"gridcolor\":\"white\",\"linecolor\":\"white\",\"ticks\":\"\"},\"bgcolor\":\"#E5ECF6\",\"radialaxis\":{\"gridcolor\":\"white\",\"linecolor\":\"white\",\"ticks\":\"\"}},\"scene\":{\"xaxis\":{\"backgroundcolor\":\"#E5ECF6\",\"gridcolor\":\"white\",\"gridwidth\":2,\"linecolor\":\"white\",\"showbackground\":true,\"ticks\":\"\",\"zerolinecolor\":\"white\"},\"yaxis\":{\"backgroundcolor\":\"#E5ECF6\",\"gridcolor\":\"white\",\"gridwidth\":2,\"linecolor\":\"white\",\"showbackground\":true,\"ticks\":\"\",\"zerolinecolor\":\"white\"},\"zaxis\":{\"backgroundcolor\":\"#E5ECF6\",\"gridcolor\":\"white\",\"gridwidth\":2,\"linecolor\":\"white\",\"showbackground\":true,\"ticks\":\"\",\"zerolinecolor\":\"white\"}},\"shapedefaults\":{\"line\":{\"color\":\"#2a3f5f\"}},\"ternary\":{\"aaxis\":{\"gridcolor\":\"white\",\"linecolor\":\"white\",\"ticks\":\"\"},\"baxis\":{\"gridcolor\":\"white\",\"linecolor\":\"white\",\"ticks\":\"\"},\"bgcolor\":\"#E5ECF6\",\"caxis\":{\"gridcolor\":\"white\",\"linecolor\":\"white\",\"ticks\":\"\"}},\"title\":{\"x\":0.05},\"xaxis\":{\"automargin\":true,\"gridcolor\":\"white\",\"linecolor\":\"white\",\"ticks\":\"\",\"title\":{\"standoff\":15},\"zerolinecolor\":\"white\",\"zerolinewidth\":2},\"yaxis\":{\"automargin\":true,\"gridcolor\":\"white\",\"linecolor\":\"white\",\"ticks\":\"\",\"title\":{\"standoff\":15},\"zerolinecolor\":\"white\",\"zerolinewidth\":2}}}},                        {\"responsive\": true}                    ).then(function(){\n",
              "                            \n",
              "var gd = document.getElementById('4c3eb729-311f-4754-a138-cec156438924');\n",
              "var x = new MutationObserver(function (mutations, observer) {{\n",
              "        var display = window.getComputedStyle(gd).display;\n",
              "        if (!display || display === 'none') {{\n",
              "            console.log([gd, 'removed!']);\n",
              "            Plotly.purge(gd);\n",
              "            observer.disconnect();\n",
              "        }}\n",
              "}});\n",
              "\n",
              "// Listen for the removal of the full notebook cells\n",
              "var notebookContainer = gd.closest('#notebook-container');\n",
              "if (notebookContainer) {{\n",
              "    x.observe(notebookContainer, {childList: true});\n",
              "}}\n",
              "\n",
              "// Listen for the clearing of the current output cell\n",
              "var outputEl = gd.closest('.output');\n",
              "if (outputEl) {{\n",
              "    x.observe(outputEl, {childList: true});\n",
              "}}\n",
              "\n",
              "                        })                };                            </script>        </div>\n",
              "</body>\n",
              "</html>"
            ]
          },
          "metadata": {}
        },
        {
          "output_type": "display_data",
          "data": {
            "text/plain": [
              "<IPython.core.display.HTML object>"
            ],
            "text/html": [
              "Waiting for W&B process to finish... <strong style=\"color:green\">(success).</strong>"
            ]
          },
          "metadata": {}
        },
        {
          "output_type": "display_data",
          "data": {
            "text/plain": [
              "VBox(children=(Label(value='0.021 MB of 0.021 MB uploaded (0.000 MB deduped)\\r'), FloatProgress(value=1.0, max…"
            ],
            "application/vnd.jupyter.widget-view+json": {
              "version_major": 2,
              "version_minor": 0,
              "model_id": "6a22623fa3ce4cb0b7247b37f378c652"
            }
          },
          "metadata": {}
        },
        {
          "output_type": "display_data",
          "data": {
            "text/plain": [
              "<IPython.core.display.HTML object>"
            ],
            "text/html": [
              " View run <strong style=\"color:#cdcd00\">blooming-shadow-1</strong> at: <a href='https://wandb.ai/cs22m059/cs6910_dl_assgn_1_q_7/runs/fs78nlrr' target=\"_blank\">https://wandb.ai/cs22m059/cs6910_dl_assgn_1_q_7/runs/fs78nlrr</a><br/>Synced 5 W&B file(s), 1 media file(s), 0 artifact file(s) and 0 other file(s)"
            ]
          },
          "metadata": {}
        },
        {
          "output_type": "display_data",
          "data": {
            "text/plain": [
              "<IPython.core.display.HTML object>"
            ],
            "text/html": [
              "Find logs at: <code>./wandb/run-20230319_104750-fs78nlrr/logs</code>"
            ]
          },
          "metadata": {}
        }
      ]
    },
    {
      "cell_type": "code",
      "source": [],
      "metadata": {
        "id": "M3NRdnwfOFVu"
      },
      "execution_count": null,
      "outputs": []
    }
  ]
}