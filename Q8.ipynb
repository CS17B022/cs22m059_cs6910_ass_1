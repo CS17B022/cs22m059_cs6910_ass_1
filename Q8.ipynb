{
  "nbformat": 4,
  "nbformat_minor": 0,
  "metadata": {
    "colab": {
      "provenance": []
    },
    "kernelspec": {
      "name": "python3",
      "display_name": "Python 3"
    },
    "language_info": {
      "name": "python"
    },
    "widgets": {
      "application/vnd.jupyter.widget-state+json": {
        "2cf589fc63b948daa6ca00e4cfe054a0": {
          "model_module": "@jupyter-widgets/controls",
          "model_name": "VBoxModel",
          "model_module_version": "1.5.0",
          "state": {
            "_dom_classes": [],
            "_model_module": "@jupyter-widgets/controls",
            "_model_module_version": "1.5.0",
            "_model_name": "VBoxModel",
            "_view_count": null,
            "_view_module": "@jupyter-widgets/controls",
            "_view_module_version": "1.5.0",
            "_view_name": "VBoxView",
            "box_style": "",
            "children": [
              "IPY_MODEL_2cd6453327c6422b8575d55dda163e67",
              "IPY_MODEL_57749dfffb3f462c86c97f8aad3f91a3"
            ],
            "layout": "IPY_MODEL_074fb6761b334e66a769207a30a960ca"
          }
        },
        "2cd6453327c6422b8575d55dda163e67": {
          "model_module": "@jupyter-widgets/controls",
          "model_name": "LabelModel",
          "model_module_version": "1.5.0",
          "state": {
            "_dom_classes": [],
            "_model_module": "@jupyter-widgets/controls",
            "_model_module_version": "1.5.0",
            "_model_name": "LabelModel",
            "_view_count": null,
            "_view_module": "@jupyter-widgets/controls",
            "_view_module_version": "1.5.0",
            "_view_name": "LabelView",
            "description": "",
            "description_tooltip": null,
            "layout": "IPY_MODEL_e5d0ae909c0846ebb9035f3d40c2af3d",
            "placeholder": "​",
            "style": "IPY_MODEL_e59f3ff1608e48238dc3f393bd20ee15",
            "value": "0.001 MB of 0.001 MB uploaded (0.000 MB deduped)\r"
          }
        },
        "57749dfffb3f462c86c97f8aad3f91a3": {
          "model_module": "@jupyter-widgets/controls",
          "model_name": "FloatProgressModel",
          "model_module_version": "1.5.0",
          "state": {
            "_dom_classes": [],
            "_model_module": "@jupyter-widgets/controls",
            "_model_module_version": "1.5.0",
            "_model_name": "FloatProgressModel",
            "_view_count": null,
            "_view_module": "@jupyter-widgets/controls",
            "_view_module_version": "1.5.0",
            "_view_name": "ProgressView",
            "bar_style": "",
            "description": "",
            "description_tooltip": null,
            "layout": "IPY_MODEL_1991218deeb749e497a32aa70f69629e",
            "max": 1,
            "min": 0,
            "orientation": "horizontal",
            "style": "IPY_MODEL_5e43db238f2c44f680a6e7055007c9a8",
            "value": 1
          }
        },
        "074fb6761b334e66a769207a30a960ca": {
          "model_module": "@jupyter-widgets/base",
          "model_name": "LayoutModel",
          "model_module_version": "1.2.0",
          "state": {
            "_model_module": "@jupyter-widgets/base",
            "_model_module_version": "1.2.0",
            "_model_name": "LayoutModel",
            "_view_count": null,
            "_view_module": "@jupyter-widgets/base",
            "_view_module_version": "1.2.0",
            "_view_name": "LayoutView",
            "align_content": null,
            "align_items": null,
            "align_self": null,
            "border": null,
            "bottom": null,
            "display": null,
            "flex": null,
            "flex_flow": null,
            "grid_area": null,
            "grid_auto_columns": null,
            "grid_auto_flow": null,
            "grid_auto_rows": null,
            "grid_column": null,
            "grid_gap": null,
            "grid_row": null,
            "grid_template_areas": null,
            "grid_template_columns": null,
            "grid_template_rows": null,
            "height": null,
            "justify_content": null,
            "justify_items": null,
            "left": null,
            "margin": null,
            "max_height": null,
            "max_width": null,
            "min_height": null,
            "min_width": null,
            "object_fit": null,
            "object_position": null,
            "order": null,
            "overflow": null,
            "overflow_x": null,
            "overflow_y": null,
            "padding": null,
            "right": null,
            "top": null,
            "visibility": null,
            "width": null
          }
        },
        "e5d0ae909c0846ebb9035f3d40c2af3d": {
          "model_module": "@jupyter-widgets/base",
          "model_name": "LayoutModel",
          "model_module_version": "1.2.0",
          "state": {
            "_model_module": "@jupyter-widgets/base",
            "_model_module_version": "1.2.0",
            "_model_name": "LayoutModel",
            "_view_count": null,
            "_view_module": "@jupyter-widgets/base",
            "_view_module_version": "1.2.0",
            "_view_name": "LayoutView",
            "align_content": null,
            "align_items": null,
            "align_self": null,
            "border": null,
            "bottom": null,
            "display": null,
            "flex": null,
            "flex_flow": null,
            "grid_area": null,
            "grid_auto_columns": null,
            "grid_auto_flow": null,
            "grid_auto_rows": null,
            "grid_column": null,
            "grid_gap": null,
            "grid_row": null,
            "grid_template_areas": null,
            "grid_template_columns": null,
            "grid_template_rows": null,
            "height": null,
            "justify_content": null,
            "justify_items": null,
            "left": null,
            "margin": null,
            "max_height": null,
            "max_width": null,
            "min_height": null,
            "min_width": null,
            "object_fit": null,
            "object_position": null,
            "order": null,
            "overflow": null,
            "overflow_x": null,
            "overflow_y": null,
            "padding": null,
            "right": null,
            "top": null,
            "visibility": null,
            "width": null
          }
        },
        "e59f3ff1608e48238dc3f393bd20ee15": {
          "model_module": "@jupyter-widgets/controls",
          "model_name": "DescriptionStyleModel",
          "model_module_version": "1.5.0",
          "state": {
            "_model_module": "@jupyter-widgets/controls",
            "_model_module_version": "1.5.0",
            "_model_name": "DescriptionStyleModel",
            "_view_count": null,
            "_view_module": "@jupyter-widgets/base",
            "_view_module_version": "1.2.0",
            "_view_name": "StyleView",
            "description_width": ""
          }
        },
        "1991218deeb749e497a32aa70f69629e": {
          "model_module": "@jupyter-widgets/base",
          "model_name": "LayoutModel",
          "model_module_version": "1.2.0",
          "state": {
            "_model_module": "@jupyter-widgets/base",
            "_model_module_version": "1.2.0",
            "_model_name": "LayoutModel",
            "_view_count": null,
            "_view_module": "@jupyter-widgets/base",
            "_view_module_version": "1.2.0",
            "_view_name": "LayoutView",
            "align_content": null,
            "align_items": null,
            "align_self": null,
            "border": null,
            "bottom": null,
            "display": null,
            "flex": null,
            "flex_flow": null,
            "grid_area": null,
            "grid_auto_columns": null,
            "grid_auto_flow": null,
            "grid_auto_rows": null,
            "grid_column": null,
            "grid_gap": null,
            "grid_row": null,
            "grid_template_areas": null,
            "grid_template_columns": null,
            "grid_template_rows": null,
            "height": null,
            "justify_content": null,
            "justify_items": null,
            "left": null,
            "margin": null,
            "max_height": null,
            "max_width": null,
            "min_height": null,
            "min_width": null,
            "object_fit": null,
            "object_position": null,
            "order": null,
            "overflow": null,
            "overflow_x": null,
            "overflow_y": null,
            "padding": null,
            "right": null,
            "top": null,
            "visibility": null,
            "width": null
          }
        },
        "5e43db238f2c44f680a6e7055007c9a8": {
          "model_module": "@jupyter-widgets/controls",
          "model_name": "ProgressStyleModel",
          "model_module_version": "1.5.0",
          "state": {
            "_model_module": "@jupyter-widgets/controls",
            "_model_module_version": "1.5.0",
            "_model_name": "ProgressStyleModel",
            "_view_count": null,
            "_view_module": "@jupyter-widgets/base",
            "_view_module_version": "1.2.0",
            "_view_name": "StyleView",
            "bar_color": null,
            "description_width": ""
          }
        },
        "7939a19ad4c94ed8bf71203a186e492a": {
          "model_module": "@jupyter-widgets/controls",
          "model_name": "VBoxModel",
          "model_module_version": "1.5.0",
          "state": {
            "_dom_classes": [],
            "_model_module": "@jupyter-widgets/controls",
            "_model_module_version": "1.5.0",
            "_model_name": "VBoxModel",
            "_view_count": null,
            "_view_module": "@jupyter-widgets/controls",
            "_view_module_version": "1.5.0",
            "_view_name": "VBoxView",
            "box_style": "",
            "children": [
              "IPY_MODEL_73173e5c0b364310bef92ed87a20dc86",
              "IPY_MODEL_599f03310e1a43a89fd8729f88db602b"
            ],
            "layout": "IPY_MODEL_97a0d2ec5a8848c2bd4654859f4569a2"
          }
        },
        "73173e5c0b364310bef92ed87a20dc86": {
          "model_module": "@jupyter-widgets/controls",
          "model_name": "LabelModel",
          "model_module_version": "1.5.0",
          "state": {
            "_dom_classes": [],
            "_model_module": "@jupyter-widgets/controls",
            "_model_module_version": "1.5.0",
            "_model_name": "LabelModel",
            "_view_count": null,
            "_view_module": "@jupyter-widgets/controls",
            "_view_module_version": "1.5.0",
            "_view_name": "LabelView",
            "description": "",
            "description_tooltip": null,
            "layout": "IPY_MODEL_8ee3382f388e4870bfbf96dde203ff8c",
            "placeholder": "​",
            "style": "IPY_MODEL_7f4d3063bb704343ad8c88fe65eb9dfc",
            "value": "0.001 MB of 0.001 MB uploaded (0.000 MB deduped)\r"
          }
        },
        "599f03310e1a43a89fd8729f88db602b": {
          "model_module": "@jupyter-widgets/controls",
          "model_name": "FloatProgressModel",
          "model_module_version": "1.5.0",
          "state": {
            "_dom_classes": [],
            "_model_module": "@jupyter-widgets/controls",
            "_model_module_version": "1.5.0",
            "_model_name": "FloatProgressModel",
            "_view_count": null,
            "_view_module": "@jupyter-widgets/controls",
            "_view_module_version": "1.5.0",
            "_view_name": "ProgressView",
            "bar_style": "",
            "description": "",
            "description_tooltip": null,
            "layout": "IPY_MODEL_666668877a874e72b7526dcefbbe4a8c",
            "max": 1,
            "min": 0,
            "orientation": "horizontal",
            "style": "IPY_MODEL_9d6e6946005a4d55b05aca95e4599b3e",
            "value": 1
          }
        },
        "97a0d2ec5a8848c2bd4654859f4569a2": {
          "model_module": "@jupyter-widgets/base",
          "model_name": "LayoutModel",
          "model_module_version": "1.2.0",
          "state": {
            "_model_module": "@jupyter-widgets/base",
            "_model_module_version": "1.2.0",
            "_model_name": "LayoutModel",
            "_view_count": null,
            "_view_module": "@jupyter-widgets/base",
            "_view_module_version": "1.2.0",
            "_view_name": "LayoutView",
            "align_content": null,
            "align_items": null,
            "align_self": null,
            "border": null,
            "bottom": null,
            "display": null,
            "flex": null,
            "flex_flow": null,
            "grid_area": null,
            "grid_auto_columns": null,
            "grid_auto_flow": null,
            "grid_auto_rows": null,
            "grid_column": null,
            "grid_gap": null,
            "grid_row": null,
            "grid_template_areas": null,
            "grid_template_columns": null,
            "grid_template_rows": null,
            "height": null,
            "justify_content": null,
            "justify_items": null,
            "left": null,
            "margin": null,
            "max_height": null,
            "max_width": null,
            "min_height": null,
            "min_width": null,
            "object_fit": null,
            "object_position": null,
            "order": null,
            "overflow": null,
            "overflow_x": null,
            "overflow_y": null,
            "padding": null,
            "right": null,
            "top": null,
            "visibility": null,
            "width": null
          }
        },
        "8ee3382f388e4870bfbf96dde203ff8c": {
          "model_module": "@jupyter-widgets/base",
          "model_name": "LayoutModel",
          "model_module_version": "1.2.0",
          "state": {
            "_model_module": "@jupyter-widgets/base",
            "_model_module_version": "1.2.0",
            "_model_name": "LayoutModel",
            "_view_count": null,
            "_view_module": "@jupyter-widgets/base",
            "_view_module_version": "1.2.0",
            "_view_name": "LayoutView",
            "align_content": null,
            "align_items": null,
            "align_self": null,
            "border": null,
            "bottom": null,
            "display": null,
            "flex": null,
            "flex_flow": null,
            "grid_area": null,
            "grid_auto_columns": null,
            "grid_auto_flow": null,
            "grid_auto_rows": null,
            "grid_column": null,
            "grid_gap": null,
            "grid_row": null,
            "grid_template_areas": null,
            "grid_template_columns": null,
            "grid_template_rows": null,
            "height": null,
            "justify_content": null,
            "justify_items": null,
            "left": null,
            "margin": null,
            "max_height": null,
            "max_width": null,
            "min_height": null,
            "min_width": null,
            "object_fit": null,
            "object_position": null,
            "order": null,
            "overflow": null,
            "overflow_x": null,
            "overflow_y": null,
            "padding": null,
            "right": null,
            "top": null,
            "visibility": null,
            "width": null
          }
        },
        "7f4d3063bb704343ad8c88fe65eb9dfc": {
          "model_module": "@jupyter-widgets/controls",
          "model_name": "DescriptionStyleModel",
          "model_module_version": "1.5.0",
          "state": {
            "_model_module": "@jupyter-widgets/controls",
            "_model_module_version": "1.5.0",
            "_model_name": "DescriptionStyleModel",
            "_view_count": null,
            "_view_module": "@jupyter-widgets/base",
            "_view_module_version": "1.2.0",
            "_view_name": "StyleView",
            "description_width": ""
          }
        },
        "666668877a874e72b7526dcefbbe4a8c": {
          "model_module": "@jupyter-widgets/base",
          "model_name": "LayoutModel",
          "model_module_version": "1.2.0",
          "state": {
            "_model_module": "@jupyter-widgets/base",
            "_model_module_version": "1.2.0",
            "_model_name": "LayoutModel",
            "_view_count": null,
            "_view_module": "@jupyter-widgets/base",
            "_view_module_version": "1.2.0",
            "_view_name": "LayoutView",
            "align_content": null,
            "align_items": null,
            "align_self": null,
            "border": null,
            "bottom": null,
            "display": null,
            "flex": null,
            "flex_flow": null,
            "grid_area": null,
            "grid_auto_columns": null,
            "grid_auto_flow": null,
            "grid_auto_rows": null,
            "grid_column": null,
            "grid_gap": null,
            "grid_row": null,
            "grid_template_areas": null,
            "grid_template_columns": null,
            "grid_template_rows": null,
            "height": null,
            "justify_content": null,
            "justify_items": null,
            "left": null,
            "margin": null,
            "max_height": null,
            "max_width": null,
            "min_height": null,
            "min_width": null,
            "object_fit": null,
            "object_position": null,
            "order": null,
            "overflow": null,
            "overflow_x": null,
            "overflow_y": null,
            "padding": null,
            "right": null,
            "top": null,
            "visibility": null,
            "width": null
          }
        },
        "9d6e6946005a4d55b05aca95e4599b3e": {
          "model_module": "@jupyter-widgets/controls",
          "model_name": "ProgressStyleModel",
          "model_module_version": "1.5.0",
          "state": {
            "_model_module": "@jupyter-widgets/controls",
            "_model_module_version": "1.5.0",
            "_model_name": "ProgressStyleModel",
            "_view_count": null,
            "_view_module": "@jupyter-widgets/base",
            "_view_module_version": "1.2.0",
            "_view_name": "StyleView",
            "bar_color": null,
            "description_width": ""
          }
        }
      }
    }
  },
  "cells": [
    {
      "cell_type": "code",
      "execution_count": null,
      "metadata": {
        "id": "r43hhC1b_wFB",
        "colab": {
          "base_uri": "https://localhost:8080/"
        },
        "outputId": "164dca6c-1a03-4cb5-e8c5-55067bdc3bcb"
      },
      "outputs": [
        {
          "output_type": "stream",
          "name": "stdout",
          "text": [
            "Looking in indexes: https://pypi.org/simple, https://us-python.pkg.dev/colab-wheels/public/simple/\n",
            "Collecting wandb\n",
            "  Downloading wandb-0.14.0-py3-none-any.whl (2.0 MB)\n",
            "\u001b[2K     \u001b[90m━━━━━━━━━━━━━━━━━━━━━━━━━━━━━━━━━━━━━━━━\u001b[0m \u001b[32m2.0/2.0 MB\u001b[0m \u001b[31m25.0 MB/s\u001b[0m eta \u001b[36m0:00:00\u001b[0m\n",
            "\u001b[?25hCollecting setproctitle\n",
            "  Downloading setproctitle-1.3.2-cp39-cp39-manylinux_2_5_x86_64.manylinux1_x86_64.manylinux_2_17_x86_64.manylinux2014_x86_64.whl (30 kB)\n",
            "Collecting appdirs>=1.4.3\n",
            "  Downloading appdirs-1.4.4-py2.py3-none-any.whl (9.6 kB)\n",
            "Requirement already satisfied: Click!=8.0.0,>=7.0 in /usr/local/lib/python3.9/dist-packages (from wandb) (8.1.3)\n",
            "Requirement already satisfied: typing-extensions in /usr/local/lib/python3.9/dist-packages (from wandb) (4.5.0)\n",
            "Requirement already satisfied: psutil>=5.0.0 in /usr/local/lib/python3.9/dist-packages (from wandb) (5.9.4)\n",
            "Requirement already satisfied: setuptools in /usr/local/lib/python3.9/dist-packages (from wandb) (63.4.3)\n",
            "Requirement already satisfied: protobuf!=4.21.0,<5,>=3.15.0 in /usr/local/lib/python3.9/dist-packages (from wandb) (3.19.6)\n",
            "Collecting GitPython!=3.1.29,>=1.0.0\n",
            "  Downloading GitPython-3.1.31-py3-none-any.whl (184 kB)\n",
            "\u001b[2K     \u001b[90m━━━━━━━━━━━━━━━━━━━━━━━━━━━━━━━━━━━━━━\u001b[0m \u001b[32m184.3/184.3 KB\u001b[0m \u001b[31m19.3 MB/s\u001b[0m eta \u001b[36m0:00:00\u001b[0m\n",
            "\u001b[?25hCollecting pathtools\n",
            "  Downloading pathtools-0.1.2.tar.gz (11 kB)\n",
            "  Preparing metadata (setup.py) ... \u001b[?25l\u001b[?25hdone\n",
            "Requirement already satisfied: PyYAML in /usr/local/lib/python3.9/dist-packages (from wandb) (6.0)\n",
            "Collecting sentry-sdk>=1.0.0\n",
            "  Downloading sentry_sdk-1.17.0-py2.py3-none-any.whl (189 kB)\n",
            "\u001b[2K     \u001b[90m━━━━━━━━━━━━━━━━━━━━━━━━━━━━━━━━━━━━━━\u001b[0m \u001b[32m189.1/189.1 KB\u001b[0m \u001b[31m20.9 MB/s\u001b[0m eta \u001b[36m0:00:00\u001b[0m\n",
            "\u001b[?25hCollecting docker-pycreds>=0.4.0\n",
            "  Downloading docker_pycreds-0.4.0-py2.py3-none-any.whl (9.0 kB)\n",
            "Requirement already satisfied: requests<3,>=2.0.0 in /usr/local/lib/python3.9/dist-packages (from wandb) (2.27.1)\n",
            "Requirement already satisfied: six>=1.4.0 in /usr/local/lib/python3.9/dist-packages (from docker-pycreds>=0.4.0->wandb) (1.15.0)\n",
            "Collecting gitdb<5,>=4.0.1\n",
            "  Downloading gitdb-4.0.10-py3-none-any.whl (62 kB)\n",
            "\u001b[2K     \u001b[90m━━━━━━━━━━━━━━━━━━━━━━━━━━━━━━━━━━━━━━━━\u001b[0m \u001b[32m62.7/62.7 KB\u001b[0m \u001b[31m8.0 MB/s\u001b[0m eta \u001b[36m0:00:00\u001b[0m\n",
            "\u001b[?25hRequirement already satisfied: certifi>=2017.4.17 in /usr/local/lib/python3.9/dist-packages (from requests<3,>=2.0.0->wandb) (2022.12.7)\n",
            "Requirement already satisfied: charset-normalizer~=2.0.0 in /usr/local/lib/python3.9/dist-packages (from requests<3,>=2.0.0->wandb) (2.0.12)\n",
            "Requirement already satisfied: urllib3<1.27,>=1.21.1 in /usr/local/lib/python3.9/dist-packages (from requests<3,>=2.0.0->wandb) (1.26.15)\n",
            "Requirement already satisfied: idna<4,>=2.5 in /usr/local/lib/python3.9/dist-packages (from requests<3,>=2.0.0->wandb) (3.4)\n",
            "Collecting smmap<6,>=3.0.1\n",
            "  Downloading smmap-5.0.0-py3-none-any.whl (24 kB)\n",
            "Building wheels for collected packages: pathtools\n",
            "  Building wheel for pathtools (setup.py) ... \u001b[?25l\u001b[?25hdone\n",
            "  Created wheel for pathtools: filename=pathtools-0.1.2-py3-none-any.whl size=8807 sha256=76204ec5d0796dd5906d50eeeec20d353bf74f1153945af2e10d7c728875aa14\n",
            "  Stored in directory: /root/.cache/pip/wheels/b7/0a/67/ada2a22079218c75a88361c0782855cc72aebc4d18d0289d05\n",
            "Successfully built pathtools\n",
            "Installing collected packages: pathtools, appdirs, smmap, setproctitle, sentry-sdk, docker-pycreds, gitdb, GitPython, wandb\n",
            "Successfully installed GitPython-3.1.31 appdirs-1.4.4 docker-pycreds-0.4.0 gitdb-4.0.10 pathtools-0.1.2 sentry-sdk-1.17.0 setproctitle-1.3.2 smmap-5.0.0 wandb-0.14.0\n"
          ]
        }
      ],
      "source": [
        "!pip install wandb"
      ]
    },
    {
      "cell_type": "code",
      "source": [
        "from keras.datasets import fashion_mnist, mnist\n",
        "import numpy as np\n",
        "import math\n",
        "import wandb"
      ],
      "metadata": {
        "id": "FspDC0i3Vydo"
      },
      "execution_count": null,
      "outputs": []
    },
    {
      "cell_type": "code",
      "source": [
        "def process(x) :\n",
        "  x_proc = x.reshape(len(x), -1)\n",
        "  x_proc = x_proc.astype('float64')\n",
        "  x_proc = x_proc / 255.0\n",
        "  return x_proc"
      ],
      "metadata": {
        "id": "N4Qf77NcV4oX"
      },
      "execution_count": null,
      "outputs": []
    },
    {
      "cell_type": "code",
      "source": [
        "def load_data(dataset = \"fashion_mnist\"):\n",
        "  if dataset == \"fashion_mnist\" :\n",
        "      (x_train, y_train), (x_test, y_test) = fashion_mnist.load_data()\n",
        "  elif dataset == \"mnist\":\n",
        "      (x_train, y_train), (x_test, y_test) = mnist.load_data()\n",
        "  \n",
        "  x_train, x_valid = x_train[:int(len(x_train) * 0.9)], x_train[int(len(x_train) * 0.9):]\n",
        "  y_train, y_valid = y_train[:int(len(y_train) * 0.9)], y_train[int(len(y_train) * 0.9):]\n",
        "\n",
        "  x_train = process(x_train)\n",
        "  x_valid = process(x_valid)\n",
        "  x_test = process(x_test) \n",
        "\n",
        "  k = 10\n",
        "  y_train = np.eye(k)[y_train] # one-hot\n",
        "  y_valid = np.eye(k)[y_valid]\n",
        "  y_test = np.eye(k)[y_test]\n",
        "  \n",
        "  return x_train, y_train, x_valid, y_valid, x_test, y_test"
      ],
      "metadata": {
        "id": "ukxkHxCZV5Px"
      },
      "execution_count": null,
      "outputs": []
    },
    {
      "cell_type": "code",
      "source": [
        "def sigmoid(x) :\n",
        "  return 1. / (1. + np.exp(-x))\n",
        "\n",
        "def tanh(x) :\n",
        "  return (2. / (1. + np.exp(-2.*x))) - 1.\n",
        "\n",
        "def relu(x) : # do not use relu with random\n",
        "  return np.where(x >= 0, x, 0.)\n",
        "\n",
        "def softmax(x) :\n",
        "  x = x - np.max(x, axis=0)\n",
        "  y = np.exp(x)\n",
        "  return y / y.sum(axis=0)"
      ],
      "metadata": {
        "id": "j6Nc1gFyV7wh"
      },
      "execution_count": null,
      "outputs": []
    },
    {
      "cell_type": "code",
      "source": [
        "class my_nn :\n",
        "\n",
        "  def __init__(self, n_feature = 784, n_class = 10, nhl = 1, sz = 4, weight_init = \"random\", act_fun = \"sigmoid\", loss = \"cross_entropy\", \n",
        "               epochs = 1, b_sz = 4, optimizer = \"sgd\", lr = 0.1, mom = 0.9, beta = 0.9, beta1 = 0.9, beta2 = 0.999, epsilon = 0.000001, w_d = 0.005) :\n",
        "    self.n_feature = n_feature\n",
        "    self.n_class = n_class\n",
        "    self.nhl = nhl\n",
        "    self.L = nhl + 1\n",
        "    self.sz = sz\n",
        "    self.weight_init = weight_init\n",
        "    self.act_fun = act_fun\n",
        "    self.loss = loss\n",
        "    self.epochs = epochs\n",
        "    self.b_sz = b_sz\n",
        "    self.optimizer = optimizer\n",
        "    self.lr = lr\n",
        "    self.mom = mom\n",
        "    self.beta = beta\n",
        "    self.beta1 = beta1\n",
        "    self.beta2 = beta2\n",
        "    self.epsilon = epsilon\n",
        "    self.w_d = w_d\n",
        "\n",
        "    self.W = [0 for i in range(0, self.L+1, 1)]\n",
        "    self.b = [0 for i in range(0, self.L+1, 1)]\n",
        "\n",
        "    self.d_a = [0 for i in range(0, self.L+1, 1)]\n",
        "    self.d_b = [0 for i in range(0, self.L+1, 1)]\n",
        "    self.d_W = [0 for i in range(0, self.L+1, 1)]\n",
        "\n",
        "    self.a = [0 for i in range(0, self.L+1, 1)]\n",
        "    self.h = [0 for i in range(0, self.L+1, 1)]\n",
        "\n",
        "    self.u_W = [0 for i in range(0, self.L+1, 1)]\n",
        "    self.u_b = [0 for i in range(0, self.L+1, 1)]\n",
        "\n",
        "    self.W_look = [0 for i in range(0, self.L+1, 1)]\n",
        "    self.b_look = [0 for i in range(0, self.L+1, 1)]\n",
        "\n",
        "    self.v_W = [0 for i in range(0, self.L+1, 1)]\n",
        "    self.v_b = [0 for i in range(0, self.L+1, 1)]\n",
        "\n",
        "    self.m_W = [0 for i in range(0, self.L+1, 1)]\n",
        "    self.m_b = [0 for i in range(0, self.L+1, 1)]\n",
        "\n",
        "    self.initialization()\n",
        "\n",
        "  ######################################################\n",
        "\n",
        "  def initialization(self) :\n",
        "    if self.act_fun == \"ReLU\" :\n",
        "      self.W[1] = np.random.randn(self.sz, self.n_feature) * np.sqrt(2.0/self.n_feature)\n",
        "      for i in range(2, self.L, 1) :\n",
        "        self.W[i] = np.random.randn(self.sz, self.sz) * math.sqrt(2.0/self.sz)\n",
        "      self.W[self.L] = np.random.randn(self.n_class, self.sz) * math.sqrt(2.0/self.sz)\n",
        "\n",
        "    elif self.weight_init == \"random\" :\n",
        "      self.W[1] = np.random.randn(self.sz, self.n_feature)\n",
        "      for i in range(2, self.L, 1) :\n",
        "        self.W[i] = np.random.randn(self.sz, self.sz)\n",
        "      self.W[self.L] = np.random.randn(self.n_class, self.sz)\n",
        "\n",
        "    elif self.weight_init == \"Xavier\" :\n",
        "      self.W[1] = np.random.randn(self.sz, self.n_feature) * np.sqrt(2.0/self.n_feature)\n",
        "      for i in range(2, self.L, 1) :\n",
        "        self.W[i] = np.random.randn(self.sz, self.sz) * math.sqrt(2.0/self.sz)\n",
        "      self.W[self.L] = np.random.randn(self.n_class, self.sz) * math.sqrt(2.0/self.sz)\n",
        "    \n",
        "    for i in range(1, self.L, 1) :\n",
        "      self.b[i] = np.zeros((self.sz, 1))\n",
        "    self.b[self.L] = np.zeros((self.n_class, 1))\n",
        "  \n",
        "  #########################################################\n",
        "\n",
        "  def forward_propagation(self, x) :\n",
        "    self.h[0] = x\n",
        "\n",
        "    for i in range(1, self.L, 1) :\n",
        "      self.a[i] = self.b[i] + np.dot(self.W[i], self.h[i-1])\n",
        "\n",
        "      if self.act_fun == \"sigmoid\" :\n",
        "        self.h[i] = sigmoid(self.a[i])\n",
        "      elif self.act_fun == \"tanh\" :\n",
        "        self.h[i] = tanh(self.a[i])\n",
        "      elif self.act_fun == \"ReLU\" :\n",
        "        self.h[i] = relu(self.a[i])\n",
        "    \n",
        "    self.a[self.L] = self.b[self.L] + np.dot(self.W[self.L], self.h[self.L-1])\n",
        "    self.h[self.L] = softmax(self.a[self.L]) # h[L] = y_hat\n",
        "\n",
        "  #########################################################\n",
        "\n",
        "  def back_propagation(self, y) :\n",
        "    if self.loss == \"cross_entropy\" :\n",
        "      self.d_a[self.L] = self.h[self.L] - y\n",
        "    elif self.loss == \"mean_squared_error\" :\n",
        "      self.d_a[self.L] = (self.h[self.L] - y) * (self.h[self.L] * (1. - self.h[self.L]))\n",
        "    \n",
        "    self.d_b[self.L] = np.sum(self.d_a[self.L], axis=1, keepdims=True)\n",
        "    self.d_W[self.L] = np.dot(self.d_a[self.L], self.h[self.L-1].T) + self.w_d * self.W[self.L]\n",
        "    \n",
        "    for i in range(self.L-1, 0, -1) :\n",
        "      d_h_i = np.dot(self.W[i+1].T, self.d_a[i+1])\n",
        "      \n",
        "      if self.act_fun == \"sigmoid\" :\n",
        "        g_dash_a_i = self.h[i] * (1. - self.h[i])\n",
        "      elif self.act_fun == \"tanh\" :\n",
        "        g_dash_a_i = 1. - self.h[i]**2\n",
        "      elif self.act_fun == \"ReLU\" :\n",
        "        g_dash_a_i = np.where(self.h[i] > 0., 1., 0.)\n",
        "      \n",
        "      self.d_a[i] = d_h_i * g_dash_a_i\n",
        "      self.d_b[i] = np.sum(self.d_a[i], axis=1, keepdims=True)\n",
        "      self.d_W[i] = np.dot(self.d_a[i], self.h[i-1].T) + self.w_d * self.W[i]\n",
        "\n",
        "  ############################################################\n",
        "\n",
        "  def nag_forward_propagation(self, x) :\n",
        "    self.h[0] = x\n",
        "\n",
        "    for i in range(1, self.L, 1) :\n",
        "      self.a[i] = self.b_look[i] + np.dot(self.W_look[i], self.h[i-1])\n",
        "\n",
        "      if self.act_fun == \"sigmoid\" :\n",
        "        self.h[i] = sigmoid(self.a[i])\n",
        "      elif self.act_fun == \"tanh\" :\n",
        "        self.h[i] = tanh(self.a[i])\n",
        "      elif self.act_fun == \"ReLU\" :\n",
        "        self.h[i] = relu(self.a[i])\n",
        "    \n",
        "    self.a[self.L] = self.b_look[self.L] + np.dot(self.W_look[self.L], self.h[self.L-1])\n",
        "    self.h[self.L] = softmax(self.a[self.L]) # h[L] = y_hat\n",
        "\n",
        "  #########################################################\n",
        "\n",
        "  def nag_back_propagation(self, y) :\n",
        "    if self.loss == \"cross_entropy\" :\n",
        "      self.d_a[self.L] = self.h[self.L] - y\n",
        "    elif self.loss == \"mean_squared_error\" :\n",
        "      self.d_a[self.L] = (self.h[self.L] - y) * (self.h[self.L] * (1. - self.h[self.L]))\n",
        "    \n",
        "    self.d_b[self.L] = np.sum(self.d_a[self.L], axis=1, keepdims=True)\n",
        "    self.d_W[self.L] = np.dot(self.d_a[self.L], self.h[self.L-1].T) + self.w_d * self.W_look[self.L]\n",
        "    \n",
        "    for i in range(self.L-1, 0, -1) :\n",
        "      d_h_i = np.dot(self.W_look[i+1].T, self.d_a[i+1])\n",
        "      \n",
        "      if self.act_fun == \"sigmoid\" :\n",
        "        g_dash_a_i = self.h[i] * (1. - self.h[i])\n",
        "      elif self.act_fun == \"tanh\" :\n",
        "        g_dash_a_i = 1. - self.h[i]**2\n",
        "      elif self.act_fun == \"ReLU\" :\n",
        "        g_dash_a_i = np.where(self.h[i] > 0., 1., 0.)\n",
        "      \n",
        "      self.d_a[i] = d_h_i * g_dash_a_i\n",
        "      self.d_b[i] = np.sum(self.d_a[i], axis=1, keepdims=True)\n",
        "      self.d_W[i] = np.dot(self.d_a[i], self.h[i-1].T) + self.w_d * self.W_look[i]\n",
        "\n",
        "  ############################################################\n",
        "\n",
        "  def predict_prob(self, x) :\n",
        "    a_temp = [0 for i in range(0, self.L+1, 1)]\n",
        "    h_temp = [0 for i in range(0, self.L+1, 1)]\n",
        "    h_temp[0] = x\n",
        "\n",
        "    for i in range(1, self.L, 1) :\n",
        "      a_temp[i] = self.b[i] + np.dot(self.W[i], h_temp[i-1])\n",
        "\n",
        "      if self.act_fun == \"sigmoid\" :\n",
        "        h_temp[i] = sigmoid(a_temp[i])\n",
        "      elif self.act_fun == \"tanh\" :\n",
        "        h_temp[i] = tanh(a_temp[i])\n",
        "      elif self.act_fun == \"ReLU\" :\n",
        "        h_temp[i] = relu(a_temp[i])\n",
        "    \n",
        "    a_temp[self.L] = self.b[self.L] + np.dot(self.W[self.L], h_temp[self.L-1])\n",
        "    h_temp[self.L] = softmax(a_temp[self.L]) # h[L] = y_hat\n",
        "\n",
        "    return h_temp[self.L].T\n",
        "  \n",
        "  #############################################################\n",
        "\n",
        "  def loss_val(self, y_hat, y) :\n",
        "    loss_val = 0.0\n",
        "    N = y.shape[0]\n",
        "\n",
        "    if self.loss == \"cross_entropy\" :\n",
        "      for i in range(0, N, 1) :\n",
        "        temp_loss = math.log(y_hat[i][y[i].argmax()])\n",
        "        loss_val += temp_loss\n",
        "      \n",
        "      loss_val *= (-1.0/N)\n",
        "    \n",
        "    elif self.loss == \"mean_squared_error\" :\n",
        "      loss_val = np.sum((y - y_hat)**2) / N\n",
        "\n",
        "    return loss_val\n",
        "\n",
        "  ##############################################################\n",
        "\n",
        "  def accuracy(self, y_hat, y) :\n",
        "    N = y.shape[0]\n",
        "    n_correct = 0\n",
        "\n",
        "    for i in range(0, N, 1) :\n",
        "      if y[i].argmax() == y_hat[i].argmax() :\n",
        "        n_correct += 1\n",
        "    \n",
        "    return 100 * n_correct / N\n",
        "\n",
        "  ###############################################################\n",
        "\n",
        "  def sgd(self, X, y, X_valid, y_valid) :\n",
        "    t = 0\n",
        "    N = X.shape[0]\n",
        "\n",
        "    while t < self.epochs :\n",
        "      for j in range(0, N, self.b_sz) :\n",
        "        r_idx = j + self.b_sz\n",
        "        if (j + self.b_sz) > N :\n",
        "          r_idx = N\n",
        "        self.forward_propagation(X[j:r_idx].T)\n",
        "        self.back_propagation(y[j:r_idx].T)\n",
        "        \n",
        "        for idx in range(1, self.L+1, 1) :\n",
        "          self.W[idx] = self.W[idx] - (self.lr * self.d_W[idx])\n",
        "          self.b[idx] = self.b[idx] - (self.lr * self.d_b[idx])\n",
        "      \n",
        "      y_hat = self.predict_prob(X.T)\n",
        "      tr_loss = self.loss_val(y_hat, y)\n",
        "      tr_acc = self.accuracy(y_hat, y)\n",
        "\n",
        "      y_val_hat = self.predict_prob(X_valid.T)\n",
        "      val_loss = self.loss_val(y_val_hat, y_valid)\n",
        "      val_acc = self.accuracy(y_val_hat, y_valid)\n",
        "\n",
        "      print(f\"epoch {t + 1} : train_loss = {tr_loss:.2f} valid_loss = {val_loss:.2f}, train accuracy = {tr_acc:.2f} valid_accuracy = {val_acc:.2f}\")\n",
        "      wandb.log({'tr_loss' : tr_loss, 'tr_accuracy' : tr_acc, 'val_loss' : val_loss, 'val_accuracy' : val_acc})\n",
        "\n",
        "      t += 1\n",
        "\n",
        "  #################################################################\n",
        "\n",
        "  def mgd(self, X, y, X_valid, y_valid) :\n",
        "    t = 0\n",
        "    N = X.shape[0]\n",
        "    n_step = 0\n",
        "\n",
        "    while t < self.epochs :\n",
        "      for j in range(0, N, self.b_sz) :\n",
        "        n_step += 1\n",
        "        r_idx = j + self.b_sz\n",
        "        if (j + self.b_sz) > N :\n",
        "          r_idx = N\n",
        "        self.forward_propagation(X[j:r_idx].T)\n",
        "        self.back_propagation(y[j:r_idx].T)\n",
        "\n",
        "        for idx in range(1, self.L+1, 1) :\n",
        "          if n_step == 1 :\n",
        "            self.u_W[idx] = (self.lr * self.d_W[idx])\n",
        "            self.u_b[idx] = (self.lr * self.d_b[idx])\n",
        "          else :\n",
        "            self.u_W[idx] = (self.mom * self.u_W[idx]) + (self.lr * self.d_W[idx])\n",
        "            self.u_b[idx] = (self.mom * self.u_b[idx]) + (self.lr * self.d_b[idx])\n",
        "          \n",
        "          self.W[idx] = self.W[idx] - self.u_W[idx]\n",
        "          self.b[idx] = self.b[idx] - self.u_b[idx]\n",
        "\n",
        "      y_hat = self.predict_prob(X.T)\n",
        "      tr_loss = self.loss_val(y_hat, y)\n",
        "      tr_acc = self.accuracy(y_hat, y)\n",
        "\n",
        "      y_val_hat = self.predict_prob(X_valid.T)\n",
        "      val_loss = self.loss_val(y_val_hat, y_valid)\n",
        "      val_acc = self.accuracy(y_val_hat, y_valid)\n",
        "\n",
        "      print(f\"epoch {t + 1} : train_loss = {tr_loss:.2f} valid_loss = {val_loss:.2f}, train accuracy = {tr_acc:.2f} valid_accuracy = {val_acc:.2f}\")\n",
        "      wandb.log({'tr_loss' : tr_loss, 'tr_accuracy' : tr_acc, 'val_loss' : val_loss, 'val_accuracy' : val_acc})\n",
        "      \n",
        "      t += 1\n",
        "\n",
        "  ##################################################################\n",
        "\n",
        "  def nagd(self, X, y, X_valid, y_valid) :\n",
        "    t = 0\n",
        "    N = X.shape[0]\n",
        "    n_step = 0\n",
        "\n",
        "    while t < self.epochs :\n",
        "      for j in range(0, N, self.b_sz) :\n",
        "        n_step += 1\n",
        "        r_idx = j + self.b_sz\n",
        "        if (j + self.b_sz) > N :\n",
        "          r_idx = N\n",
        "        if n_step == 1 :\n",
        "          self.forward_propagation(X[j:r_idx].T)\n",
        "          self.back_propagation(y[j:r_idx].T)\n",
        "        else :\n",
        "          for idx in range(1, self.L+1, 1) :\n",
        "            self.W_look[idx] = self.W[idx] - (self.mom * self.u_W[idx])\n",
        "            self.b_look[idx] = self.b[idx] - (self.mom * self.u_b[idx])\n",
        "          self.nag_forward_propagation(X[j:r_idx].T)\n",
        "          self.nag_back_propagation(y[j:r_idx].T)\n",
        "\n",
        "        for idx in range(1, self.L+1, 1) :\n",
        "          if n_step == 1 :\n",
        "            self.u_W[idx] = (self.lr * self.d_W[idx])\n",
        "            self.u_b[idx] = (self.lr * self.d_b[idx])\n",
        "          else :\n",
        "            self.u_W[idx] = (self.mom * self.u_W[idx]) + (self.lr * self.d_W[idx])\n",
        "            self.u_b[idx] = (self.mom * self.u_b[idx]) + (self.lr * self.d_b[idx])\n",
        "          \n",
        "          self.W[idx] = self.W[idx] - self.u_W[idx]\n",
        "          self.b[idx] = self.b[idx] - self.u_b[idx]\n",
        "        \n",
        "      y_hat = self.predict_prob(X.T)\n",
        "      tr_loss = self.loss_val(y_hat, y)\n",
        "      tr_acc = self.accuracy(y_hat, y)\n",
        "\n",
        "      y_val_hat = self.predict_prob(X_valid.T)\n",
        "      val_loss = self.loss_val(y_val_hat, y_valid)\n",
        "      val_acc = self.accuracy(y_val_hat, y_valid)\n",
        "\n",
        "      print(f\"epoch {t + 1} : train_loss = {tr_loss:.2f} valid_loss = {val_loss:.2f}, train accuracy = {tr_acc:.2f} valid_accuracy = {val_acc:.2f}\")\n",
        "      wandb.log({'tr_loss' : tr_loss, 'tr_accuracy' : tr_acc, 'val_loss' : val_loss, 'val_accuracy' : val_acc})\n",
        "      t += 1\n",
        "\n",
        "  ##############################################################\n",
        "\n",
        "  def rmsprop(self, X, y, X_valid, y_valid) :\n",
        "    t = 0\n",
        "    N = X.shape[0]\n",
        "    n_step = 0\n",
        "\n",
        "    while t < self.epochs :\n",
        "      for j in range(0, N, self.b_sz) :\n",
        "        n_step += 1\n",
        "        r_idx = j + self.b_sz\n",
        "        if (j + self.b_sz) > N :\n",
        "          r_idx = N\n",
        "        self.forward_propagation(X[j:r_idx].T)\n",
        "        self.back_propagation(y[j:r_idx].T)\n",
        "\n",
        "        for idx in range(1, self.L+1, 1) :\n",
        "          if n_step == 1 :\n",
        "            self.v_W[idx] = ((1. - self.beta) * (self.d_W[idx]**2))\n",
        "            self.v_b[idx] = ((1. - self.beta) * (self.d_b[idx]**2))\n",
        "          else :\n",
        "            self.v_W[idx] = (self.beta * self.v_W[idx]) + ((1. - self.beta) * (self.d_W[idx]**2))\n",
        "            self.v_b[idx] = (self.beta * self.v_b[idx]) + ((1. - self.beta) * (self.d_b[idx]**2))\n",
        "          \n",
        "          self.W[idx] = self.W[idx] - (self.lr / (np.sqrt(self.v_W[idx] + self.epsilon))) * self.d_W[idx]\n",
        "          self.b[idx] = self.b[idx] - (self.lr / (np.sqrt(self.v_b[idx] + self.epsilon))) * self.d_b[idx]\n",
        "        \n",
        "      y_hat = self.predict_prob(X.T)\n",
        "      tr_loss = self.loss_val(y_hat, y)\n",
        "      tr_acc = self.accuracy(y_hat, y)\n",
        "\n",
        "      y_val_hat = self.predict_prob(X_valid.T)\n",
        "      val_loss = self.loss_val(y_val_hat, y_valid)\n",
        "      val_acc = self.accuracy(y_val_hat, y_valid)\n",
        "\n",
        "      print(f\"epoch {t + 1} : train_loss = {tr_loss:.2f} valid_loss = {val_loss:.2f}, train accuracy = {tr_acc:.2f} valid_accuracy = {val_acc:.2f}\")\n",
        "      wandb.log({'tr_loss' : tr_loss, 'tr_accuracy' : tr_acc, 'val_loss' : val_loss, 'val_accuracy' : val_acc})\n",
        "      t += 1\n",
        "  \n",
        "  ##############################################################\n",
        "\n",
        "  def adam(self, X, y, X_valid, y_valid) :\n",
        "    t = 0\n",
        "    N = X.shape[0]\n",
        "    n_step = 0\n",
        "\n",
        "    while t < self.epochs :\n",
        "      for j in range(0, N, self.b_sz) :\n",
        "        n_step += 1\n",
        "        r_idx = j + self.b_sz\n",
        "        if (j + self.b_sz) > N :\n",
        "          r_idx = N\n",
        "        self.forward_propagation(X[j:r_idx].T)\n",
        "        self.back_propagation(y[j:r_idx].T)\n",
        "\n",
        "        for idx in range(1, self.L+1, 1) :\n",
        "          if n_step == 1 :\n",
        "            self.m_W[idx] = ((1. - self.beta1) * self.d_W[idx])\n",
        "            self.m_b[idx] = ((1. - self.beta1) * self.d_b[idx])\n",
        "\n",
        "            self.v_W[idx] = ((1. - self.beta2) * (self.d_W[idx]**2))\n",
        "            self.v_b[idx] = ((1. - self.beta2) * (self.d_b[idx]**2))\n",
        "          else :\n",
        "            self.m_W[idx] = (self.beta1 * self.m_W[idx]) + ((1. - self.beta1) * self.d_W[idx])\n",
        "            self.m_b[idx] = (self.beta1 * self.m_b[idx]) + ((1. - self.beta1) * self.d_b[idx])\n",
        "\n",
        "            self.v_W[idx] = (self.beta2 * self.v_W[idx]) + ((1. - self.beta2) * (self.d_W[idx]**2))\n",
        "            self.v_b[idx] = (self.beta2 * self.v_b[idx]) + ((1. - self.beta2) * (self.d_b[idx]**2))\n",
        "          \n",
        "          self.W[idx] = self.W[idx] - (self.lr / (np.sqrt(self.v_W[idx] / (1. - self.beta2**n_step) + self.epsilon))) * (self.m_W[idx] / (1. - self.beta1**n_step))\n",
        "          self.b[idx] = self.b[idx] - (self.lr / (np.sqrt(self.v_b[idx] / (1. - self.beta2**n_step) + self.epsilon))) * (self.m_b[idx] / (1. - self.beta1**n_step))\n",
        "        \n",
        "      y_hat = self.predict_prob(X.T)\n",
        "      tr_loss = self.loss_val(y_hat, y)\n",
        "      tr_acc = self.accuracy(y_hat, y)\n",
        "\n",
        "      y_val_hat = self.predict_prob(X_valid.T)\n",
        "      val_loss = self.loss_val(y_val_hat, y_valid)\n",
        "      val_acc = self.accuracy(y_val_hat, y_valid)\n",
        "\n",
        "      print(f\"epoch {t + 1} : train_loss = {tr_loss:.2f} valid_loss = {val_loss:.2f}, train accuracy = {tr_acc:.2f} valid_accuracy = {val_acc:.2f}\")\n",
        "      wandb.log({'tr_loss' : tr_loss, 'tr_accuracy' : tr_acc, 'val_loss' : val_loss, 'val_accuracy' : val_acc})\n",
        "      t += 1\n",
        "\n",
        "  ##############################################################\n",
        "\n",
        "  def nadam(self, X, y, X_valid, y_valid) :\n",
        "    t = 0\n",
        "    N = X.shape[0]\n",
        "    n_step = 0\n",
        "\n",
        "    while t < self.epochs :\n",
        "      for j in range(0, N, self.b_sz) :\n",
        "        n_step += 1\n",
        "        r_idx = j + self.b_sz\n",
        "        if (j + self.b_sz) > N :\n",
        "          r_idx = N\n",
        "        self.forward_propagation(X[j:r_idx].T)\n",
        "        self.back_propagation(y[j:r_idx].T)\n",
        "\n",
        "        for idx in range(1, self.L+1, 1) :\n",
        "          if n_step == 1 :\n",
        "            self.m_W[idx] = ((1. - self.beta1) * self.d_W[idx])\n",
        "            self.m_b[idx] = ((1. - self.beta1) * self.d_b[idx])\n",
        "\n",
        "            self.v_W[idx] = ((1. - self.beta2) * (self.d_W[idx]**2))\n",
        "            self.v_b[idx] = ((1. - self.beta2) * (self.d_b[idx]**2))\n",
        "          else :\n",
        "            self.m_W[idx] = (self.beta1 * self.m_W[idx]) + ((1. - self.beta1) * self.d_W[idx])\n",
        "            self.m_b[idx] = (self.beta1 * self.m_b[idx]) + ((1. - self.beta1) * self.d_b[idx])\n",
        "\n",
        "            self.v_W[idx] = (self.beta2 * self.v_W[idx]) + ((1. - self.beta2) * (self.d_W[idx]**2))\n",
        "            self.v_b[idx] = (self.beta2 * self.v_b[idx]) + ((1. - self.beta2) * (self.d_b[idx]**2))\n",
        "          \n",
        "          W_term = (self.beta1 / (1. - self.beta1**n_step)) * self.m_W[idx]  + ((1. - self.beta1) / (1. - self.beta1**n_step)) * self.d_W[idx]\n",
        "          b_term = (self.beta1 / (1. - self.beta1**n_step)) * self.m_b[idx]  + ((1. - self.beta1) / (1. - self.beta1**n_step)) * self.d_b[idx]\n",
        "\n",
        "          self.W[idx] = self.W[idx] - (self.lr / (np.sqrt(self.v_W[idx] / (1. - self.beta2**n_step) + self.epsilon))) * W_term\n",
        "          self.b[idx] = self.b[idx] - (self.lr / (np.sqrt(self.v_b[idx] / (1. - self.beta2**n_step) + self.epsilon))) * b_term\n",
        "        \n",
        "      y_hat = self.predict_prob(X.T)\n",
        "      tr_loss = self.loss_val(y_hat, y)\n",
        "      tr_acc = self.accuracy(y_hat, y)\n",
        "\n",
        "      y_val_hat = self.predict_prob(X_valid.T)\n",
        "      val_loss = self.loss_val(y_val_hat, y_valid)\n",
        "      val_acc = self.accuracy(y_val_hat, y_valid)\n",
        "\n",
        "      print(f\"epoch {t + 1} : train_loss = {tr_loss:.2f} valid_loss = {val_loss:.2f}, train accuracy = {tr_acc:.2f} valid_accuracy = {val_acc:.2f}\")\n",
        "      wandb.log({'tr_loss' : tr_loss, 'tr_accuracy' : tr_acc, 'val_loss' : val_loss, 'val_accuracy' : val_acc})\n",
        "      t += 1\n",
        "\n",
        "  ##############################################################\n",
        "\n",
        "  def train(self, X_train, y_train, X_valid, y_valid) :\n",
        "    if self.optimizer == \"sgd\" :\n",
        "      self.sgd(X_train, y_train, X_valid, y_valid)\n",
        "    elif self.optimizer == \"momentum\" :\n",
        "      self.mgd(X_train, y_train, X_valid, y_valid)\n",
        "    elif self.optimizer == \"nag\" :\n",
        "      self.nagd(X_train, y_train, X_valid, y_valid)\n",
        "    elif self.optimizer == \"rmsprop\" :\n",
        "      self.rmsprop(X_train, y_train, X_valid, y_valid)\n",
        "    elif self.optimizer == \"adam\" :\n",
        "      self.adam(X_train, y_train, X_valid, y_valid)\n",
        "    elif self.optimizer == \"nadam\" :\n",
        "      self.nadam(X_train, y_train, X_valid, y_valid)\n",
        "  "
      ],
      "metadata": {
        "id": "eX7UAyybV9j_"
      },
      "execution_count": null,
      "outputs": []
    },
    {
      "cell_type": "code",
      "source": [
        "x_train, y_train, x_valid, y_valid, x_test, y_test = load_data()"
      ],
      "metadata": {
        "colab": {
          "base_uri": "https://localhost:8080/"
        },
        "id": "Wsg50LAtWDyx",
        "outputId": "1eba3fba-1581-4a47-ed14-4d576a27f8e2"
      },
      "execution_count": null,
      "outputs": [
        {
          "output_type": "stream",
          "name": "stdout",
          "text": [
            "Downloading data from https://storage.googleapis.com/tensorflow/tf-keras-datasets/train-labels-idx1-ubyte.gz\n",
            "29515/29515 [==============================] - 0s 0us/step\n",
            "Downloading data from https://storage.googleapis.com/tensorflow/tf-keras-datasets/train-images-idx3-ubyte.gz\n",
            "26421880/26421880 [==============================] - 0s 0us/step\n",
            "Downloading data from https://storage.googleapis.com/tensorflow/tf-keras-datasets/t10k-labels-idx1-ubyte.gz\n",
            "5148/5148 [==============================] - 0s 0us/step\n",
            "Downloading data from https://storage.googleapis.com/tensorflow/tf-keras-datasets/t10k-images-idx3-ubyte.gz\n",
            "4422102/4422102 [==============================] - 0s 0us/step\n"
          ]
        }
      ]
    },
    {
      "cell_type": "code",
      "source": [
        "# hyperparameters for the best model identified in Q4\n",
        "sweep_config = {\n",
        "    'method': 'grid',\n",
        "    'name' : 'Cross_entropy_vs_MSE',\n",
        "    'metric': {\n",
        "      'name': 'val accuracy',\n",
        "      'goal': 'maximize'  \n",
        "    },\n",
        "    'parameters': {\n",
        "        'epochs': {\n",
        "            'values': [10]\n",
        "        },\n",
        "        'num_layers': {\n",
        "            'values': [3]\n",
        "        },\n",
        "         'hidden_size': {\n",
        "            'values': [128]\n",
        "        },\n",
        "        'weight_decay': {\n",
        "            'values': [0.0]\n",
        "        },\n",
        "         'learning_rate': {\n",
        "            'values': [0.001]\n",
        "        },\n",
        "         'optimizer': {\n",
        "            'values': ['sgd']           \n",
        "        },\n",
        "        'batch_size': {\n",
        "            'values': [32]\n",
        "        },\n",
        "         'weight_init':{\n",
        "            'values': ['Xavier']            \n",
        "        },\n",
        "        'activation': {\n",
        "            'values': ['ReLU']\n",
        "        },\n",
        "        'loss': {\n",
        "            'values': ['cross_entropy', 'mean_squared_error']\n",
        "        }, \n",
        "    }\n",
        "}\n",
        "\n",
        "sweep_id = wandb.sweep(sweep = sweep_config, project = 'cs6910_dl_assgn_1_q_8')"
      ],
      "metadata": {
        "id": "pInriWd7WH_9",
        "colab": {
          "base_uri": "https://localhost:8080/",
          "height": 86
        },
        "outputId": "a93d6b15-1f64-43cb-c853-72be7fc84b2c"
      },
      "execution_count": null,
      "outputs": [
        {
          "output_type": "display_data",
          "data": {
            "text/plain": [
              "<IPython.core.display.Javascript object>"
            ],
            "application/javascript": [
              "\n",
              "        window._wandbApiKey = new Promise((resolve, reject) => {\n",
              "            function loadScript(url) {\n",
              "            return new Promise(function(resolve, reject) {\n",
              "                let newScript = document.createElement(\"script\");\n",
              "                newScript.onerror = reject;\n",
              "                newScript.onload = resolve;\n",
              "                document.body.appendChild(newScript);\n",
              "                newScript.src = url;\n",
              "            });\n",
              "            }\n",
              "            loadScript(\"https://cdn.jsdelivr.net/npm/postmate/build/postmate.min.js\").then(() => {\n",
              "            const iframe = document.createElement('iframe')\n",
              "            iframe.style.cssText = \"width:0;height:0;border:none\"\n",
              "            document.body.appendChild(iframe)\n",
              "            const handshake = new Postmate({\n",
              "                container: iframe,\n",
              "                url: 'https://wandb.ai/authorize'\n",
              "            });\n",
              "            const timeout = setTimeout(() => reject(\"Couldn't auto authenticate\"), 5000)\n",
              "            handshake.then(function(child) {\n",
              "                child.on('authorize', data => {\n",
              "                    clearTimeout(timeout)\n",
              "                    resolve(data)\n",
              "                });\n",
              "            });\n",
              "            })\n",
              "        });\n",
              "    "
            ]
          },
          "metadata": {}
        },
        {
          "output_type": "stream",
          "name": "stderr",
          "text": [
            "\u001b[34m\u001b[1mwandb\u001b[0m: Appending key for api.wandb.ai to your netrc file: /root/.netrc\n"
          ]
        },
        {
          "output_type": "stream",
          "name": "stdout",
          "text": [
            "Create sweep with ID: 58ziki6a\n",
            "Sweep URL: https://wandb.ai/cs22m059/cs6910_dl_assgn_1_q_8/sweeps/58ziki6a\n"
          ]
        }
      ]
    },
    {
      "cell_type": "code",
      "source": [
        "def main():\n",
        "  with wandb.init() as run:\n",
        "    run_name = \"loss_\" + wandb.config.loss + \"_opt_\" + wandb.config.optimizer + \"_ac_\" + wandb.config.activation + \"_bs_\" + str(wandb.config.batch_size)\\\n",
        "            + \"_hl_\" + str(wandb.config.num_layers) + \"_lr_\" + str(wandb.config.learning_rate)\n",
        "    wandb.run.name = run_name\n",
        "\n",
        "    epochs = wandb.config.epochs\n",
        "    nhl = wandb.config.num_layers\n",
        "    sz = wandb.config.hidden_size\n",
        "    w_d = wandb.config.weight_decay\n",
        "    lr = wandb.config.learning_rate\n",
        "    optimizer = wandb.config.optimizer\n",
        "    b_sz = wandb.config.batch_size\n",
        "    weight_init = wandb.config.weight_init\n",
        "    act_fun = wandb.config.activation\n",
        "    loss = wandb.config.loss\n",
        "\n",
        "    nn_model = my_nn(loss=loss, epochs = epochs, nhl = nhl, sz = sz, w_d = w_d, lr = lr, optimizer = optimizer, b_sz = b_sz, weight_init = weight_init, act_fun = act_fun)\n",
        "    nn_model.train(x_train, y_train, x_valid, y_valid)\n",
        "    \n",
        "wandb.agent(sweep_id, function = main, count = 2)\n",
        "wandb.finish()"
      ],
      "metadata": {
        "id": "rZwCiLdZXXyS",
        "colab": {
          "base_uri": "https://localhost:8080/",
          "height": 1000,
          "referenced_widgets": [
            "2cf589fc63b948daa6ca00e4cfe054a0",
            "2cd6453327c6422b8575d55dda163e67",
            "57749dfffb3f462c86c97f8aad3f91a3",
            "074fb6761b334e66a769207a30a960ca",
            "e5d0ae909c0846ebb9035f3d40c2af3d",
            "e59f3ff1608e48238dc3f393bd20ee15",
            "1991218deeb749e497a32aa70f69629e",
            "5e43db238f2c44f680a6e7055007c9a8",
            "7939a19ad4c94ed8bf71203a186e492a",
            "73173e5c0b364310bef92ed87a20dc86",
            "599f03310e1a43a89fd8729f88db602b",
            "97a0d2ec5a8848c2bd4654859f4569a2",
            "8ee3382f388e4870bfbf96dde203ff8c",
            "7f4d3063bb704343ad8c88fe65eb9dfc",
            "666668877a874e72b7526dcefbbe4a8c",
            "9d6e6946005a4d55b05aca95e4599b3e"
          ]
        },
        "outputId": "93bcf9db-67f9-41d6-b843-18d8af3ca468"
      },
      "execution_count": null,
      "outputs": [
        {
          "output_type": "stream",
          "name": "stderr",
          "text": [
            "\u001b[34m\u001b[1mwandb\u001b[0m: Agent Starting Run: mbzx3un4 with config:\n",
            "\u001b[34m\u001b[1mwandb\u001b[0m: \tactivation: ReLU\n",
            "\u001b[34m\u001b[1mwandb\u001b[0m: \tbatch_size: 32\n",
            "\u001b[34m\u001b[1mwandb\u001b[0m: \tepochs: 10\n",
            "\u001b[34m\u001b[1mwandb\u001b[0m: \thidden_size: 128\n",
            "\u001b[34m\u001b[1mwandb\u001b[0m: \tlearning_rate: 0.001\n",
            "\u001b[34m\u001b[1mwandb\u001b[0m: \tloss: cross_entropy\n",
            "\u001b[34m\u001b[1mwandb\u001b[0m: \tnum_layers: 3\n",
            "\u001b[34m\u001b[1mwandb\u001b[0m: \toptimizer: sgd\n",
            "\u001b[34m\u001b[1mwandb\u001b[0m: \tweight_decay: 0\n",
            "\u001b[34m\u001b[1mwandb\u001b[0m: \tweight_init: Xavier\n",
            "\u001b[34m\u001b[1mwandb\u001b[0m: Currently logged in as: \u001b[33mcs22m059\u001b[0m. Use \u001b[1m`wandb login --relogin`\u001b[0m to force relogin\n"
          ]
        },
        {
          "output_type": "display_data",
          "data": {
            "text/plain": [
              "<IPython.core.display.HTML object>"
            ],
            "text/html": [
              "Tracking run with wandb version 0.14.0"
            ]
          },
          "metadata": {}
        },
        {
          "output_type": "display_data",
          "data": {
            "text/plain": [
              "<IPython.core.display.HTML object>"
            ],
            "text/html": [
              "Run data is saved locally in <code>/content/wandb/run-20230319_111105-mbzx3un4</code>"
            ]
          },
          "metadata": {}
        },
        {
          "output_type": "display_data",
          "data": {
            "text/plain": [
              "<IPython.core.display.HTML object>"
            ],
            "text/html": [
              "Syncing run <strong><a href='https://wandb.ai/cs22m059/cs6910_dl_assgn_1_q_8/runs/mbzx3un4' target=\"_blank\">avid-sweep-1</a></strong> to <a href='https://wandb.ai/cs22m059/cs6910_dl_assgn_1_q_8' target=\"_blank\">Weights & Biases</a> (<a href='https://wandb.me/run' target=\"_blank\">docs</a>)<br/>Sweep page: <a href='https://wandb.ai/cs22m059/cs6910_dl_assgn_1_q_8/sweeps/58ziki6a' target=\"_blank\">https://wandb.ai/cs22m059/cs6910_dl_assgn_1_q_8/sweeps/58ziki6a</a>"
            ]
          },
          "metadata": {}
        },
        {
          "output_type": "display_data",
          "data": {
            "text/plain": [
              "<IPython.core.display.HTML object>"
            ],
            "text/html": [
              " View project at <a href='https://wandb.ai/cs22m059/cs6910_dl_assgn_1_q_8' target=\"_blank\">https://wandb.ai/cs22m059/cs6910_dl_assgn_1_q_8</a>"
            ]
          },
          "metadata": {}
        },
        {
          "output_type": "display_data",
          "data": {
            "text/plain": [
              "<IPython.core.display.HTML object>"
            ],
            "text/html": [
              " View sweep at <a href='https://wandb.ai/cs22m059/cs6910_dl_assgn_1_q_8/sweeps/58ziki6a' target=\"_blank\">https://wandb.ai/cs22m059/cs6910_dl_assgn_1_q_8/sweeps/58ziki6a</a>"
            ]
          },
          "metadata": {}
        },
        {
          "output_type": "display_data",
          "data": {
            "text/plain": [
              "<IPython.core.display.HTML object>"
            ],
            "text/html": [
              " View run at <a href='https://wandb.ai/cs22m059/cs6910_dl_assgn_1_q_8/runs/mbzx3un4' target=\"_blank\">https://wandb.ai/cs22m059/cs6910_dl_assgn_1_q_8/runs/mbzx3un4</a>"
            ]
          },
          "metadata": {}
        },
        {
          "output_type": "stream",
          "name": "stdout",
          "text": [
            "epoch 1 : train_loss = 0.43 valid_loss = 0.45, train accuracy = 84.79 valid_accuracy = 83.88\n",
            "epoch 2 : train_loss = 0.37 valid_loss = 0.40, train accuracy = 86.63 valid_accuracy = 85.73\n",
            "epoch 3 : train_loss = 0.34 valid_loss = 0.38, train accuracy = 87.65 valid_accuracy = 86.78\n",
            "epoch 4 : train_loss = 0.32 valid_loss = 0.36, train accuracy = 88.51 valid_accuracy = 87.33\n",
            "epoch 5 : train_loss = 0.30 valid_loss = 0.35, train accuracy = 89.08 valid_accuracy = 87.48\n",
            "epoch 6 : train_loss = 0.28 valid_loss = 0.34, train accuracy = 89.44 valid_accuracy = 87.67\n",
            "epoch 7 : train_loss = 0.27 valid_loss = 0.34, train accuracy = 89.81 valid_accuracy = 87.83\n",
            "epoch 8 : train_loss = 0.26 valid_loss = 0.33, train accuracy = 90.34 valid_accuracy = 88.12\n",
            "epoch 9 : train_loss = 0.26 valid_loss = 0.34, train accuracy = 90.40 valid_accuracy = 88.05\n",
            "epoch 10 : train_loss = 0.25 valid_loss = 0.33, train accuracy = 90.73 valid_accuracy = 88.28\n"
          ]
        },
        {
          "output_type": "display_data",
          "data": {
            "text/plain": [
              "<IPython.core.display.HTML object>"
            ],
            "text/html": [
              "Waiting for W&B process to finish... <strong style=\"color:green\">(success).</strong>"
            ]
          },
          "metadata": {}
        },
        {
          "output_type": "display_data",
          "data": {
            "text/plain": [
              "VBox(children=(Label(value='0.001 MB of 0.001 MB uploaded (0.000 MB deduped)\\r'), FloatProgress(value=1.0, max…"
            ],
            "application/vnd.jupyter.widget-view+json": {
              "version_major": 2,
              "version_minor": 0,
              "model_id": "2cf589fc63b948daa6ca00e4cfe054a0"
            }
          },
          "metadata": {}
        },
        {
          "output_type": "display_data",
          "data": {
            "text/plain": [
              "<IPython.core.display.HTML object>"
            ],
            "text/html": [
              "<style>\n",
              "    table.wandb td:nth-child(1) { padding: 0 10px; text-align: left ; width: auto;} td:nth-child(2) {text-align: left ; width: 100%}\n",
              "    .wandb-row { display: flex; flex-direction: row; flex-wrap: wrap; justify-content: flex-start; width: 100% }\n",
              "    .wandb-col { display: flex; flex-direction: column; flex-basis: 100%; flex: 1; padding: 10px; }\n",
              "    </style>\n",
              "<div class=\"wandb-row\"><div class=\"wandb-col\"><h3>Run history:</h3><br/><table class=\"wandb\"><tr><td>tr_accuracy</td><td>▁▃▄▅▆▆▇███</td></tr><tr><td>tr_loss</td><td>█▆▅▄▃▂▂▂▁▁</td></tr><tr><td>val_accuracy</td><td>▁▄▆▆▇▇▇███</td></tr><tr><td>val_loss</td><td>█▅▄▃▂▂▁▁▁▁</td></tr></table><br/></div><div class=\"wandb-col\"><h3>Run summary:</h3><br/><table class=\"wandb\"><tr><td>tr_accuracy</td><td>90.73148</td></tr><tr><td>tr_loss</td><td>0.2465</td></tr><tr><td>val_accuracy</td><td>88.28333</td></tr><tr><td>val_loss</td><td>0.33287</td></tr></table><br/></div></div>"
            ]
          },
          "metadata": {}
        },
        {
          "output_type": "display_data",
          "data": {
            "text/plain": [
              "<IPython.core.display.HTML object>"
            ],
            "text/html": [
              " View run <strong style=\"color:#cdcd00\">avid-sweep-1</strong> at: <a href='https://wandb.ai/cs22m059/cs6910_dl_assgn_1_q_8/runs/mbzx3un4' target=\"_blank\">https://wandb.ai/cs22m059/cs6910_dl_assgn_1_q_8/runs/mbzx3un4</a><br/>Synced 5 W&B file(s), 0 media file(s), 0 artifact file(s) and 0 other file(s)"
            ]
          },
          "metadata": {}
        },
        {
          "output_type": "display_data",
          "data": {
            "text/plain": [
              "<IPython.core.display.HTML object>"
            ],
            "text/html": [
              "Find logs at: <code>./wandb/run-20230319_111105-mbzx3un4/logs</code>"
            ]
          },
          "metadata": {}
        },
        {
          "output_type": "stream",
          "name": "stderr",
          "text": [
            "\u001b[34m\u001b[1mwandb\u001b[0m: Agent Starting Run: bbeci4yc with config:\n",
            "\u001b[34m\u001b[1mwandb\u001b[0m: \tactivation: ReLU\n",
            "\u001b[34m\u001b[1mwandb\u001b[0m: \tbatch_size: 32\n",
            "\u001b[34m\u001b[1mwandb\u001b[0m: \tepochs: 10\n",
            "\u001b[34m\u001b[1mwandb\u001b[0m: \thidden_size: 128\n",
            "\u001b[34m\u001b[1mwandb\u001b[0m: \tlearning_rate: 0.001\n",
            "\u001b[34m\u001b[1mwandb\u001b[0m: \tloss: mean_squared_error\n",
            "\u001b[34m\u001b[1mwandb\u001b[0m: \tnum_layers: 3\n",
            "\u001b[34m\u001b[1mwandb\u001b[0m: \toptimizer: sgd\n",
            "\u001b[34m\u001b[1mwandb\u001b[0m: \tweight_decay: 0\n",
            "\u001b[34m\u001b[1mwandb\u001b[0m: \tweight_init: Xavier\n"
          ]
        },
        {
          "output_type": "display_data",
          "data": {
            "text/plain": [
              "<IPython.core.display.HTML object>"
            ],
            "text/html": [
              "Tracking run with wandb version 0.14.0"
            ]
          },
          "metadata": {}
        },
        {
          "output_type": "display_data",
          "data": {
            "text/plain": [
              "<IPython.core.display.HTML object>"
            ],
            "text/html": [
              "Run data is saved locally in <code>/content/wandb/run-20230319_111227-bbeci4yc</code>"
            ]
          },
          "metadata": {}
        },
        {
          "output_type": "display_data",
          "data": {
            "text/plain": [
              "<IPython.core.display.HTML object>"
            ],
            "text/html": [
              "Syncing run <strong><a href='https://wandb.ai/cs22m059/cs6910_dl_assgn_1_q_8/runs/bbeci4yc' target=\"_blank\">logical-sweep-2</a></strong> to <a href='https://wandb.ai/cs22m059/cs6910_dl_assgn_1_q_8' target=\"_blank\">Weights & Biases</a> (<a href='https://wandb.me/run' target=\"_blank\">docs</a>)<br/>Sweep page: <a href='https://wandb.ai/cs22m059/cs6910_dl_assgn_1_q_8/sweeps/58ziki6a' target=\"_blank\">https://wandb.ai/cs22m059/cs6910_dl_assgn_1_q_8/sweeps/58ziki6a</a>"
            ]
          },
          "metadata": {}
        },
        {
          "output_type": "display_data",
          "data": {
            "text/plain": [
              "<IPython.core.display.HTML object>"
            ],
            "text/html": [
              " View project at <a href='https://wandb.ai/cs22m059/cs6910_dl_assgn_1_q_8' target=\"_blank\">https://wandb.ai/cs22m059/cs6910_dl_assgn_1_q_8</a>"
            ]
          },
          "metadata": {}
        },
        {
          "output_type": "display_data",
          "data": {
            "text/plain": [
              "<IPython.core.display.HTML object>"
            ],
            "text/html": [
              " View sweep at <a href='https://wandb.ai/cs22m059/cs6910_dl_assgn_1_q_8/sweeps/58ziki6a' target=\"_blank\">https://wandb.ai/cs22m059/cs6910_dl_assgn_1_q_8/sweeps/58ziki6a</a>"
            ]
          },
          "metadata": {}
        },
        {
          "output_type": "display_data",
          "data": {
            "text/plain": [
              "<IPython.core.display.HTML object>"
            ],
            "text/html": [
              " View run at <a href='https://wandb.ai/cs22m059/cs6910_dl_assgn_1_q_8/runs/bbeci4yc' target=\"_blank\">https://wandb.ai/cs22m059/cs6910_dl_assgn_1_q_8/runs/bbeci4yc</a>"
            ]
          },
          "metadata": {}
        },
        {
          "output_type": "stream",
          "name": "stdout",
          "text": [
            "epoch 1 : train_loss = 0.29 valid_loss = 0.29, train accuracy = 80.34 valid_accuracy = 80.08\n",
            "epoch 2 : train_loss = 0.25 valid_loss = 0.26, train accuracy = 82.34 valid_accuracy = 81.35\n",
            "epoch 3 : train_loss = 0.23 valid_loss = 0.24, train accuracy = 83.61 valid_accuracy = 82.57\n",
            "epoch 4 : train_loss = 0.22 valid_loss = 0.23, train accuracy = 84.56 valid_accuracy = 83.20\n",
            "epoch 5 : train_loss = 0.21 valid_loss = 0.23, train accuracy = 85.17 valid_accuracy = 83.97\n",
            "epoch 6 : train_loss = 0.20 valid_loss = 0.22, train accuracy = 85.82 valid_accuracy = 84.60\n",
            "epoch 7 : train_loss = 0.19 valid_loss = 0.21, train accuracy = 86.36 valid_accuracy = 85.07\n",
            "epoch 8 : train_loss = 0.19 valid_loss = 0.20, train accuracy = 86.95 valid_accuracy = 85.62\n",
            "epoch 9 : train_loss = 0.18 valid_loss = 0.20, train accuracy = 87.27 valid_accuracy = 85.90\n",
            "epoch 10 : train_loss = 0.18 valid_loss = 0.20, train accuracy = 87.63 valid_accuracy = 86.13\n"
          ]
        },
        {
          "output_type": "display_data",
          "data": {
            "text/plain": [
              "<IPython.core.display.HTML object>"
            ],
            "text/html": [
              "Waiting for W&B process to finish... <strong style=\"color:green\">(success).</strong>"
            ]
          },
          "metadata": {}
        },
        {
          "output_type": "display_data",
          "data": {
            "text/plain": [
              "VBox(children=(Label(value='0.001 MB of 0.001 MB uploaded (0.000 MB deduped)\\r'), FloatProgress(value=1.0, max…"
            ],
            "application/vnd.jupyter.widget-view+json": {
              "version_major": 2,
              "version_minor": 0,
              "model_id": "7939a19ad4c94ed8bf71203a186e492a"
            }
          },
          "metadata": {}
        },
        {
          "output_type": "display_data",
          "data": {
            "text/plain": [
              "<IPython.core.display.HTML object>"
            ],
            "text/html": [
              "<style>\n",
              "    table.wandb td:nth-child(1) { padding: 0 10px; text-align: left ; width: auto;} td:nth-child(2) {text-align: left ; width: 100%}\n",
              "    .wandb-row { display: flex; flex-direction: row; flex-wrap: wrap; justify-content: flex-start; width: 100% }\n",
              "    .wandb-col { display: flex; flex-direction: column; flex-basis: 100%; flex: 1; padding: 10px; }\n",
              "    </style>\n",
              "<div class=\"wandb-row\"><div class=\"wandb-col\"><h3>Run history:</h3><br/><table class=\"wandb\"><tr><td>tr_accuracy</td><td>▁▃▄▅▆▆▇▇██</td></tr><tr><td>tr_loss</td><td>█▆▅▄▃▃▂▂▁▁</td></tr><tr><td>val_accuracy</td><td>▁▂▄▅▅▆▇▇██</td></tr><tr><td>val_loss</td><td>█▆▅▄▃▂▂▂▁▁</td></tr></table><br/></div><div class=\"wandb-col\"><h3>Run summary:</h3><br/><table class=\"wandb\"><tr><td>tr_accuracy</td><td>87.62963</td></tr><tr><td>tr_loss</td><td>0.17778</td></tr><tr><td>val_accuracy</td><td>86.13333</td></tr><tr><td>val_loss</td><td>0.19802</td></tr></table><br/></div></div>"
            ]
          },
          "metadata": {}
        },
        {
          "output_type": "display_data",
          "data": {
            "text/plain": [
              "<IPython.core.display.HTML object>"
            ],
            "text/html": [
              " View run <strong style=\"color:#cdcd00\">logical-sweep-2</strong> at: <a href='https://wandb.ai/cs22m059/cs6910_dl_assgn_1_q_8/runs/bbeci4yc' target=\"_blank\">https://wandb.ai/cs22m059/cs6910_dl_assgn_1_q_8/runs/bbeci4yc</a><br/>Synced 5 W&B file(s), 0 media file(s), 0 artifact file(s) and 0 other file(s)"
            ]
          },
          "metadata": {}
        },
        {
          "output_type": "display_data",
          "data": {
            "text/plain": [
              "<IPython.core.display.HTML object>"
            ],
            "text/html": [
              "Find logs at: <code>./wandb/run-20230319_111227-bbeci4yc/logs</code>"
            ]
          },
          "metadata": {}
        }
      ]
    },
    {
      "cell_type": "code",
      "source": [],
      "metadata": {
        "id": "k10qOnYQYflG"
      },
      "execution_count": null,
      "outputs": []
    }
  ]
}